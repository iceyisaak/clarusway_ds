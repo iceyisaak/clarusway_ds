{
 "cells": [
  {
   "cell_type": "markdown",
   "metadata": {},
   "source": [
    "<a href=\"https://clarusway.com/contact-us/\"><img align=\"center\" src=\"https://i.ibb.co/B43qn24/officially-licensed-logo.png\" alt=\"Open in Clarusway LMS\" width=\"110\" height=\"200\" title=\"This notebook is licensed by Clarusway IT training school. Please contact the authorized persons about the conditions under which you can use or share.\"></a>"
   ]
  },
  {
   "cell_type": "markdown",
   "metadata": {},
   "source": [
    "<hr>\n",
    "\n",
    "<a href=\"https://lms.clarusway.com/course/view.php?id=7435\"><img align=\"right\" src=\"https://i.ibb.co/6Z5pQxD/lmss.png\" alt=\"Open in Clarusway LMS\" width=\"70\" height=\"150\" title=\"Open Clarusway Learning Management Sytem\"></a>\n",
    "\n",
    "<a href=\"https://github.com/clarusway/DS-DE0824-TR-DA-Students/tree/main/1-%20Classes%20%26%20Labs/3-%20DVwPy\"><img align=\"left\" src=\"https://i.ibb.co/n3HWyQX/github-logo.png\" alt=\"Open in Clarusway GitHub\" width=\"110\" height=\"150\" title=\"Open and Execute in Clarusway GitHub Repository\"></a>\n",
    "\n",
    "<br/>\n",
    "<br/>\n",
    "\n",
    "<hr>\n",
    "\n",
    "<p style=\"text-align: center;\"><img src=\"https://i.ibb.co/Rpz9L36/clarusway-logo-black.png\" width=\"500\" height=\"200\" class=\"img-fluid\" alt=\"CLRSWY_LOGO\"></p>\n",
    "\n",
    "<p style=\"text-align: center;\"><img src=\"https://i.ibb.co/XS0bxSH/best-bootcamps.png\" width=\"300\" height=\"200\" class=\"img-fluid\" alt=\"CLRSWY_LOGO\"></p>\n",
    "\n",
    "<p style=\"background-color:#E51A59; font-family:newtimeroman; color:#FDFEFE; font-size:130%; text-align:center; border-radius:10px 10px;\">WAY TO REINVENT YOURSELF</p>\n",
    "\n",
    "<p style=\"text-align: center;\"><img src=\"https://i.ibb.co/99DQ3TY/DS-Courses.png\" class=\"img-fluid\" \n",
    "alt=\"CLRSWY_Courses\"></p>"
   ]
  },
  {
   "cell_type": "markdown",
   "metadata": {
    "id": "xSwVOspA2Zin"
   },
   "source": [
    "## <p style=\"background-color:#9d4f8c; font-family:newtimeroman; color:#FFF9ED; font-size:150%; text-align:center; border-radius:10px 10px;\">STAR WARS - SEABORN VISUALIZATION TASK</p>\n",
    "\n",
    "![image.jpg](https://images.thedirect.com/media/article_full/star-wars-characters-sequels.jpg?imgeng=cmpr_75/)\n",
    "\n",
    "[Photo](https://images.thedirect.com/media/article_full/star-wars-characters-sequels.jpg?imgeng=cmpr_75/)"
   ]
  },
  {
   "cell_type": "markdown",
   "metadata": {
    "id": "jryFMFSVxgHr"
   },
   "source": [
    "![image.png](https://i.ibb.co/hg2Kd1X/seabornlogo.png)\n",
    "\n",
    "Seaborn is a Python data visualization library based on matplotlib (it is the go to library for plotting in Python). It provides a high-level interface for drawing **fascinating, attractive and informative graphics**. Moreover, Seaborn is a library for making **statistical graphics** in Python. It builds on top of matplotlib and integrates closely with pandas data structures.\n",
    "\n",
    "Seaborn helps you explore and understand your data. Its plotting functions operate on dataframes and arrays containing whole datasets and internally perform the necessary semantic mapping and statistical aggregation to produce informative plots. Its dataset-oriented, declarative API lets you focus on what the different elements of your plots mean, rather than on the details of how to draw them\n",
    "\n",
    "[Seaborn Source 01](https://seaborn.pydata.org/introduction.html)<br>\n",
    "[Seaborn Source 02](https://seaborn.pydata.org/)<br>\n",
    "[Seaborn Source 03](https://www.youtube.com/watch?v=GcXcSZ0gQps)<br>\n",
    "[Seaborn Source 04](https://www.youtube.com/watch?v=6GUZXDef2U0)<br>\n",
    "[Seaborn Source 05](https://www.youtube.com/watch?v=Pkvdc2Z6eBg)<br>"
   ]
  },
  {
   "cell_type": "markdown",
   "metadata": {},
   "source": [
    "<a id=\"toc\"></a>\n",
    "\n",
    "## <p style=\"background-color:#9d4f8c; font-family:newtimeroman; color:#FFF9ED; font-size:150%; text-align:center; border-radius:10px 10px;\">CONTENT</p>\n",
    "\n",
    "* [ABOUT THE DATASET & CONTEXT](#0)\n",
    "* [ABOUT THE FEATURES](#00)\n",
    "* [IMPORTING LIBRARIES NEEDED IN THIS NOTEBOOK](#000)\n",
    "* [INSTRUCTIONS (Tasks in the Assignment)](#1)\n",
    "\n",
    "* [Q1 - Plotting the Star Wars Characters by gender](#2)\n",
    "\n",
    "* [Q2 - Plotting the Characters by eye color](#3)\n",
    "\n",
    "* [Q3 - Plotting the MASS unde 3 groups: \"High_mass\", \"Normal_mass\", \"Low_mass\"](#4)\n",
    "\n",
    "* [Q4 - Plotting the species Top 5](#5)\n",
    "\n",
    "* [Q5 - Plotting the Characters by skin_color Top 7](#6)\n",
    "\n",
    "* [Q6 - Plotting the Box plot and Swarm plot](#7)\n",
    "\n",
    "* [Q7 - Plotting the Characters height histogram ](#8)\n",
    "\n"
   ]
  },
  {
   "cell_type": "markdown",
   "metadata": {
    "id": "mN0CH7VfAzaK"
   },
   "source": [
    "\n"
   ]
  },
  {
   "cell_type": "markdown",
   "metadata": {},
   "source": [
    "<a id=\"toc\"></a>\n",
    "\n",
    "## <p style=\"background-color:#9d4f8c; font-family:newtimeroman; color:#FFF9ED; font-size:150%; text-align:center; border-radius:10px 10px;\">ABOUT THE DATASET & CONTEXT</p>\n",
    "\n",
    "Star Wars, created by George Lucas, primarily known for his movies, later years comics, video games, television productions, etc. It is a fictional universe and brand that has increased its reputation in branches. The first movie in the series was released by 20th Century Fox on May 25, 1977 under the name Star Wars and became a worldwide popular culture phenomenon. Two sequels were released three years apart. 16 years after the last movie of the original trilogy was released, the first movie of the \"premise\" trilogy was released, and the other two movies were released three years apart. The \"consecutive\" trilogy started in 2015, and the sequels were released 2 years apart. According to 2019 data, the total revenue of twelve Star Wars movies is approximately 10.25 billion dollars. With this gross, the Star Wars series became the highest-grossing movie series.\n",
    "[Wikipedia Star Wars](https://tr.wikipedia.org/wiki/Y%C4%B1ld%C4%B1z_Sava%C5%9Flar%C4%B1)\n",
    "\n",
    "This dataset contains physical and other personal information about Characters from the Star Wars universe. Name, height, mass, hair_color, skin_color, eye_color, birth_year, gender, homeworld, species.\n",
    "\n",
    "\n",
    "[May 2022 Star Wars Data Dictionary](https://data.world/datafam-con/may-2022-star-wars/workspace/data-dictionary/)<br>\n",
    "[May 2022 Star Wars Characters DATASET](https://data.world/datafam-con/may-2022-star-wars/workspace/file?filename=Star+Wars+characters.xlsx/)<br>\n",
    "\n",
    "\n",
    "**In this assignment, you are supposed to do the exercise yourself to see if you can solve it. While solving the tasks if you need to remember some subjects, please repeat inclass materails in the course and udemy course videos if provided to you.**"
   ]
  },
  {
   "cell_type": "markdown",
   "metadata": {},
   "source": [
    "<a id=\"00\"></a>"
   ]
  },
  {
   "cell_type": "markdown",
   "metadata": {},
   "source": [
    "## <p style=\"background-color:#9d4f8c; font-family:newtimeroman; color:#FFF9ED; font-size:150%; text-align:center; border-radius:10px 10px;\">ABOUT THE FEATURES</p>\n",
    "\n",
    "\n",
    "<a href=\"#toc\" class=\"btn btn-primary btn-sm\" role=\"button\" aria-pressed=\"true\" \n",
    "style=\"color:blue; background-color:#dfa8e4\" data-toggle=\"popover\">Content</a>\n",
    "\n",
    "This dataset contains physical and other personal information about Characters from the Star Wars universe. Name, height, mass, hair_color, skin_color, eye_color, birth_year, gender, homeworld, species.\n",
    "\n",
    " The file can be downloaded at this URL.\n",
    "[May 2022 Star Wars Characters DATASET](https://data.world/datafam-con/may-2022-star-wars/workspace/file?filename=Star+Wars+characters.xlsx/)<br> \n",
    "\n",
    "- **name:** The name of the Characters.<br>Type; string,   \n",
    "    Sample Values: \"Ackbar\", \"Zam Wesell\",</br>\n",
    "</br> \n",
    "- **height:** The height of the Characters. Type;integer \n",
    "- **mass:** The mass of the Characters  Type; decimal\n",
    "- **hair_color:** The hair_color of the Characters. Type; string  \n",
    "- **skin_color:** The skin_color of the Characters. Type; string\n",
    "- **eye_color:** The eye_color of the Characters. Type; string\n",
    "\n",
    "- **birth_year:** The birth_year of the Characters.<br>Type; string,   \n",
    "    Sample Values: \"112BBY\", \"41.9BBY\",</br>\n",
    "    'BBY' stands for 'Before the Battle of Yavin,'\n",
    "</br>         \n",
    "\n",
    "- **gender:** The gender of the Characters.<br>Type; string,   \n",
    "    Sample Values: \n",
    "    \n",
    "      \"male\" (71.26%) \n",
    "      \"female\" (21.84%) \n",
    "      \"NA\" (3.45%)\n",
    "      \"none\" (2.3%)\n",
    "      \"hermaphrodite\" (1.15%) \n",
    "</br>  \n",
    "\n",
    "- **homeworld:** The homeworld of the Characters.<br>Type; string,   \n",
    "    Sample Values: \n",
    "    \n",
    "      \"Alderaan\" \n",
    "      \"Zolan\"\n",
    "</br>  \n",
    "\n",
    "- **species:** The species of the Characters.<br>Type; string,   \n",
    "    Sample Values: \n",
    "    \n",
    "      \"Aleena\" \n",
    "      \"Zabrak\"\n",
    "</br>  "
   ]
  },
  {
   "cell_type": "markdown",
   "metadata": {},
   "source": [
    "<a id=\"000\"></a>"
   ]
  },
  {
   "cell_type": "markdown",
   "metadata": {},
   "source": [
    "## <p style=\"background-color:#9d4f8c; font-family:newtimeroman; color:#FFF9ED; font-size:150%; text-align:center; border-radius:10px 10px;\">IMPORTING LIBRARIES NEEDED IN THIS NOTEBOOK</p>\n",
    "\n",
    "\n",
    "<a href=\"#toc\" class=\"btn btn-primary btn-sm\" role=\"button\" aria-pressed=\"true\" \n",
    "style=\"color:blue; background-color:#dfa8e4\" data-toggle=\"popover\">Content</a>"
   ]
  },
  {
   "cell_type": "code",
   "execution_count": 164,
   "metadata": {
    "id": "GL3nsXNYAzaL"
   },
   "outputs": [],
   "source": [
    "import numpy as np\n",
    "import pandas as pd\n",
    "import seaborn as sns\n",
    "import matplotlib.pyplot as plt\n",
    "from pandas.plotting import register_matplotlib_converters\n",
    "from collections import Counter\n",
    "from pylab import rcParams\n",
    "import re\n",
    "sns.set_style(\"darkgrid\")\n",
    "\n",
    "import warnings\n",
    "warnings.filterwarnings(\"ignore\")"
   ]
  },
  {
   "cell_type": "markdown",
   "metadata": {},
   "source": [
    "<a id=\"1\"></a>"
   ]
  },
  {
   "cell_type": "markdown",
   "metadata": {
    "id": "Rsu0y4Ha2Zit"
   },
   "source": [
    "## <p style=\"background-color:#9d4f8c; font-family:newtimeroman; color:#FFF9ED; font-size:150%; text-align:center; border-radius:10px 10px;\">INSTRUCTIONS (Tasks in the Assignment)</p>\n",
    "\n",
    "\n",
    "<a href=\"#toc\" class=\"btn btn-primary btn-sm\" role=\"button\" aria-pressed=\"true\" \n",
    "style=\"color:blue; background-color:#dfa8e4\" data-toggle=\"popover\">Content</a>\n",
    "\n",
    "**In this assignment you're required to handle with the following tasks:** \n",
    "\n",
    "- **Task 1.** Plotting the Star Wars Characters by gender<br>\n",
    "- **Task 2.** Plotting the Characters by eye color <br>\n",
    "- **Task 3.** Plotting the MASS under 3 groups: \"High_mass\", \"Normal_mass\", \"Low_mass\"<br>\n",
    "- **Task 4.** Plotting the species Top 5<br>\n",
    "- **Task 5.** Plotting the Characters by skin_color Top 7<br>\n",
    "- **Task 6.** Plotting the Box plot and Swarm plot <br>\n",
    "- **Task 7.** Plotting the Characters height histogram <br>"
   ]
  },
  {
   "cell_type": "markdown",
   "metadata": {
    "id": "YgMNG9aJ3dXa"
   },
   "source": [
    "**Now Let us first try to load and read the Star_Wars_characters dataset. [SOURCE](https://towardsdatascience.com/learn-how-to-read-data-into-a-pandas-dataframe-in-5-minutes-122af8e0b9db) for learning how to read data into a Pandas DataFrame in 5 minutes.**  "
   ]
  },
  {
   "cell_type": "code",
   "execution_count": 165,
   "metadata": {
    "colab": {
     "base_uri": "https://localhost:8080/",
     "height": 203
    },
    "id": "BtAf43Va20Iq",
    "outputId": "5e76994f-847a-4efd-c3db-8c2bb994a7d5",
    "scrolled": false
   },
   "outputs": [
    {
     "data": {
      "text/html": [
       "<div>\n",
       "<style scoped>\n",
       "    .dataframe tbody tr th:only-of-type {\n",
       "        vertical-align: middle;\n",
       "    }\n",
       "\n",
       "    .dataframe tbody tr th {\n",
       "        vertical-align: top;\n",
       "    }\n",
       "\n",
       "    .dataframe thead th {\n",
       "        text-align: right;\n",
       "    }\n",
       "</style>\n",
       "<table border=\"1\" class=\"dataframe\">\n",
       "  <thead>\n",
       "    <tr style=\"text-align: right;\">\n",
       "      <th></th>\n",
       "      <th>name</th>\n",
       "      <th>height</th>\n",
       "      <th>mass</th>\n",
       "      <th>hair_color</th>\n",
       "      <th>skin_color</th>\n",
       "      <th>eye_color</th>\n",
       "      <th>birth_year</th>\n",
       "      <th>gender</th>\n",
       "      <th>homeworld</th>\n",
       "      <th>species</th>\n",
       "    </tr>\n",
       "  </thead>\n",
       "  <tbody>\n",
       "    <tr>\n",
       "      <th>0</th>\n",
       "      <td>Luke Skywalker</td>\n",
       "      <td>172.0</td>\n",
       "      <td>77.0</td>\n",
       "      <td>blond</td>\n",
       "      <td>fair</td>\n",
       "      <td>blue</td>\n",
       "      <td>19BBY</td>\n",
       "      <td>male</td>\n",
       "      <td>Tatooine</td>\n",
       "      <td>Human</td>\n",
       "    </tr>\n",
       "    <tr>\n",
       "      <th>1</th>\n",
       "      <td>C-3PO</td>\n",
       "      <td>167.0</td>\n",
       "      <td>75.0</td>\n",
       "      <td>no hair</td>\n",
       "      <td>gold</td>\n",
       "      <td>yellow</td>\n",
       "      <td>112BBY</td>\n",
       "      <td>no gender</td>\n",
       "      <td>Tatooine</td>\n",
       "      <td>Droid</td>\n",
       "    </tr>\n",
       "    <tr>\n",
       "      <th>2</th>\n",
       "      <td>R2-D2</td>\n",
       "      <td>96.0</td>\n",
       "      <td>32.0</td>\n",
       "      <td>no hair</td>\n",
       "      <td>white, blue</td>\n",
       "      <td>red</td>\n",
       "      <td>33BBY</td>\n",
       "      <td>no gender</td>\n",
       "      <td>Naboo</td>\n",
       "      <td>Droid</td>\n",
       "    </tr>\n",
       "    <tr>\n",
       "      <th>3</th>\n",
       "      <td>Darth Vader</td>\n",
       "      <td>202.0</td>\n",
       "      <td>136.0</td>\n",
       "      <td>none</td>\n",
       "      <td>white</td>\n",
       "      <td>yellow</td>\n",
       "      <td>41.9BBY</td>\n",
       "      <td>male</td>\n",
       "      <td>Tatooine</td>\n",
       "      <td>Human</td>\n",
       "    </tr>\n",
       "    <tr>\n",
       "      <th>4</th>\n",
       "      <td>Leia Organa</td>\n",
       "      <td>150.0</td>\n",
       "      <td>49.0</td>\n",
       "      <td>brown</td>\n",
       "      <td>light</td>\n",
       "      <td>brown</td>\n",
       "      <td>19BBY</td>\n",
       "      <td>female</td>\n",
       "      <td>Alderaan</td>\n",
       "      <td>Human</td>\n",
       "    </tr>\n",
       "    <tr>\n",
       "      <th>...</th>\n",
       "      <td>...</td>\n",
       "      <td>...</td>\n",
       "      <td>...</td>\n",
       "      <td>...</td>\n",
       "      <td>...</td>\n",
       "      <td>...</td>\n",
       "      <td>...</td>\n",
       "      <td>...</td>\n",
       "      <td>...</td>\n",
       "      <td>...</td>\n",
       "    </tr>\n",
       "    <tr>\n",
       "      <th>82</th>\n",
       "      <td>Rey</td>\n",
       "      <td>NaN</td>\n",
       "      <td>NaN</td>\n",
       "      <td>brown</td>\n",
       "      <td>light</td>\n",
       "      <td>hazel</td>\n",
       "      <td>NaN</td>\n",
       "      <td>female</td>\n",
       "      <td>NaN</td>\n",
       "      <td>Human</td>\n",
       "    </tr>\n",
       "    <tr>\n",
       "      <th>83</th>\n",
       "      <td>Poe Dameron</td>\n",
       "      <td>NaN</td>\n",
       "      <td>NaN</td>\n",
       "      <td>brown</td>\n",
       "      <td>light</td>\n",
       "      <td>brown</td>\n",
       "      <td>NaN</td>\n",
       "      <td>male</td>\n",
       "      <td>NaN</td>\n",
       "      <td>Human</td>\n",
       "    </tr>\n",
       "    <tr>\n",
       "      <th>84</th>\n",
       "      <td>BB8</td>\n",
       "      <td>NaN</td>\n",
       "      <td>NaN</td>\n",
       "      <td>no hair</td>\n",
       "      <td>none</td>\n",
       "      <td>black</td>\n",
       "      <td>NaN</td>\n",
       "      <td>none</td>\n",
       "      <td>NaN</td>\n",
       "      <td>Droid</td>\n",
       "    </tr>\n",
       "    <tr>\n",
       "      <th>85</th>\n",
       "      <td>Captain Phasma</td>\n",
       "      <td>NaN</td>\n",
       "      <td>NaN</td>\n",
       "      <td>none</td>\n",
       "      <td>NaN</td>\n",
       "      <td>NaN</td>\n",
       "      <td>NaN</td>\n",
       "      <td>female</td>\n",
       "      <td>NaN</td>\n",
       "      <td>NaN</td>\n",
       "    </tr>\n",
       "    <tr>\n",
       "      <th>86</th>\n",
       "      <td>PadmÃ© Amidala</td>\n",
       "      <td>165.0</td>\n",
       "      <td>45.0</td>\n",
       "      <td>brown</td>\n",
       "      <td>light</td>\n",
       "      <td>brown</td>\n",
       "      <td>46BBY</td>\n",
       "      <td>female</td>\n",
       "      <td>Naboo</td>\n",
       "      <td>Human</td>\n",
       "    </tr>\n",
       "  </tbody>\n",
       "</table>\n",
       "<p>87 rows × 10 columns</p>\n",
       "</div>"
      ],
      "text/plain": [
       "              name  height   mass hair_color   skin_color eye_color  \\\n",
       "0   Luke Skywalker   172.0   77.0      blond         fair      blue   \n",
       "1            C-3PO   167.0   75.0    no hair         gold    yellow   \n",
       "2            R2-D2    96.0   32.0    no hair  white, blue       red   \n",
       "3      Darth Vader   202.0  136.0       none        white    yellow   \n",
       "4      Leia Organa   150.0   49.0      brown        light     brown   \n",
       "..             ...     ...    ...        ...          ...       ...   \n",
       "82             Rey     NaN    NaN      brown        light     hazel   \n",
       "83     Poe Dameron     NaN    NaN      brown        light     brown   \n",
       "84             BB8     NaN    NaN    no hair         none     black   \n",
       "85  Captain Phasma     NaN    NaN       none          NaN       NaN   \n",
       "86  PadmÃ© Amidala   165.0   45.0      brown        light     brown   \n",
       "\n",
       "   birth_year     gender homeworld species  \n",
       "0       19BBY       male  Tatooine   Human  \n",
       "1      112BBY  no gender  Tatooine   Droid  \n",
       "2       33BBY  no gender     Naboo   Droid  \n",
       "3     41.9BBY       male  Tatooine   Human  \n",
       "4       19BBY     female  Alderaan   Human  \n",
       "..        ...        ...       ...     ...  \n",
       "82        NaN     female       NaN   Human  \n",
       "83        NaN       male       NaN   Human  \n",
       "84        NaN       none       NaN   Droid  \n",
       "85        NaN     female       NaN     NaN  \n",
       "86      46BBY     female     Naboo   Human  \n",
       "\n",
       "[87 rows x 10 columns]"
      ]
     },
     "execution_count": 165,
     "metadata": {},
     "output_type": "execute_result"
    }
   ],
   "source": [
    "df0 = pd.read_excel('Star_Wars_characters.xlsx')\n",
    "\n",
    "df = df0.copy()\n",
    "\n",
    "df"
   ]
  },
  {
   "cell_type": "code",
   "execution_count": 166,
   "metadata": {},
   "outputs": [
    {
     "data": {
      "text/plain": [
       "(87, 10)"
      ]
     },
     "execution_count": 166,
     "metadata": {},
     "output_type": "execute_result"
    }
   ],
   "source": [
    "#shape\n",
    "df.shape"
   ]
  },
  {
   "cell_type": "code",
   "execution_count": 167,
   "metadata": {
    "scrolled": true
   },
   "outputs": [
    {
     "name": "stdout",
     "output_type": "stream",
     "text": [
      "<class 'pandas.core.frame.DataFrame'>\n",
      "RangeIndex: 87 entries, 0 to 86\n",
      "Data columns (total 10 columns):\n",
      " #   Column      Non-Null Count  Dtype  \n",
      "---  ------      --------------  -----  \n",
      " 0   name        87 non-null     object \n",
      " 1   height      81 non-null     float64\n",
      " 2   mass        59 non-null     float64\n",
      " 3   hair_color  87 non-null     object \n",
      " 4   skin_color  85 non-null     object \n",
      " 5   eye_color   84 non-null     object \n",
      " 6   birth_year  43 non-null     object \n",
      " 7   gender      87 non-null     object \n",
      " 8   homeworld   77 non-null     object \n",
      " 9   species     82 non-null     object \n",
      "dtypes: float64(2), object(8)\n",
      "memory usage: 6.9+ KB\n"
     ]
    }
   ],
   "source": [
    "#info\n",
    "df.info()"
   ]
  },
  {
   "cell_type": "code",
   "execution_count": 168,
   "metadata": {},
   "outputs": [
    {
     "data": {
      "text/html": [
       "<div>\n",
       "<style scoped>\n",
       "    .dataframe tbody tr th:only-of-type {\n",
       "        vertical-align: middle;\n",
       "    }\n",
       "\n",
       "    .dataframe tbody tr th {\n",
       "        vertical-align: top;\n",
       "    }\n",
       "\n",
       "    .dataframe thead th {\n",
       "        text-align: right;\n",
       "    }\n",
       "</style>\n",
       "<table border=\"1\" class=\"dataframe\">\n",
       "  <thead>\n",
       "    <tr style=\"text-align: right;\">\n",
       "      <th></th>\n",
       "      <th>height</th>\n",
       "      <th>mass</th>\n",
       "    </tr>\n",
       "  </thead>\n",
       "  <tbody>\n",
       "    <tr>\n",
       "      <th>count</th>\n",
       "      <td>81.000000</td>\n",
       "      <td>59.000000</td>\n",
       "    </tr>\n",
       "    <tr>\n",
       "      <th>mean</th>\n",
       "      <td>174.358025</td>\n",
       "      <td>97.311864</td>\n",
       "    </tr>\n",
       "    <tr>\n",
       "      <th>std</th>\n",
       "      <td>34.770429</td>\n",
       "      <td>169.457163</td>\n",
       "    </tr>\n",
       "    <tr>\n",
       "      <th>min</th>\n",
       "      <td>66.000000</td>\n",
       "      <td>15.000000</td>\n",
       "    </tr>\n",
       "    <tr>\n",
       "      <th>25%</th>\n",
       "      <td>167.000000</td>\n",
       "      <td>55.600000</td>\n",
       "    </tr>\n",
       "    <tr>\n",
       "      <th>50%</th>\n",
       "      <td>180.000000</td>\n",
       "      <td>79.000000</td>\n",
       "    </tr>\n",
       "    <tr>\n",
       "      <th>75%</th>\n",
       "      <td>191.000000</td>\n",
       "      <td>84.500000</td>\n",
       "    </tr>\n",
       "    <tr>\n",
       "      <th>max</th>\n",
       "      <td>264.000000</td>\n",
       "      <td>1358.000000</td>\n",
       "    </tr>\n",
       "  </tbody>\n",
       "</table>\n",
       "</div>"
      ],
      "text/plain": [
       "           height         mass\n",
       "count   81.000000    59.000000\n",
       "mean   174.358025    97.311864\n",
       "std     34.770429   169.457163\n",
       "min     66.000000    15.000000\n",
       "25%    167.000000    55.600000\n",
       "50%    180.000000    79.000000\n",
       "75%    191.000000    84.500000\n",
       "max    264.000000  1358.000000"
      ]
     },
     "execution_count": 168,
     "metadata": {},
     "output_type": "execute_result"
    }
   ],
   "source": [
    "#describe\n",
    "df.describe()"
   ]
  },
  {
   "cell_type": "code",
   "execution_count": 169,
   "metadata": {},
   "outputs": [
    {
     "data": {
      "text/html": [
       "<div>\n",
       "<style scoped>\n",
       "    .dataframe tbody tr th:only-of-type {\n",
       "        vertical-align: middle;\n",
       "    }\n",
       "\n",
       "    .dataframe tbody tr th {\n",
       "        vertical-align: top;\n",
       "    }\n",
       "\n",
       "    .dataframe thead th {\n",
       "        text-align: right;\n",
       "    }\n",
       "</style>\n",
       "<table border=\"1\" class=\"dataframe\">\n",
       "  <thead>\n",
       "    <tr style=\"text-align: right;\">\n",
       "      <th></th>\n",
       "      <th>name</th>\n",
       "      <th>height</th>\n",
       "      <th>mass</th>\n",
       "      <th>hair_color</th>\n",
       "      <th>skin_color</th>\n",
       "      <th>eye_color</th>\n",
       "      <th>birth_year</th>\n",
       "      <th>gender</th>\n",
       "      <th>homeworld</th>\n",
       "      <th>species</th>\n",
       "    </tr>\n",
       "  </thead>\n",
       "  <tbody>\n",
       "    <tr>\n",
       "      <th>0</th>\n",
       "      <td>False</td>\n",
       "      <td>False</td>\n",
       "      <td>False</td>\n",
       "      <td>False</td>\n",
       "      <td>False</td>\n",
       "      <td>False</td>\n",
       "      <td>False</td>\n",
       "      <td>False</td>\n",
       "      <td>False</td>\n",
       "      <td>False</td>\n",
       "    </tr>\n",
       "    <tr>\n",
       "      <th>1</th>\n",
       "      <td>False</td>\n",
       "      <td>False</td>\n",
       "      <td>False</td>\n",
       "      <td>False</td>\n",
       "      <td>False</td>\n",
       "      <td>False</td>\n",
       "      <td>False</td>\n",
       "      <td>False</td>\n",
       "      <td>False</td>\n",
       "      <td>False</td>\n",
       "    </tr>\n",
       "    <tr>\n",
       "      <th>2</th>\n",
       "      <td>False</td>\n",
       "      <td>False</td>\n",
       "      <td>False</td>\n",
       "      <td>False</td>\n",
       "      <td>False</td>\n",
       "      <td>False</td>\n",
       "      <td>False</td>\n",
       "      <td>False</td>\n",
       "      <td>False</td>\n",
       "      <td>False</td>\n",
       "    </tr>\n",
       "    <tr>\n",
       "      <th>3</th>\n",
       "      <td>False</td>\n",
       "      <td>False</td>\n",
       "      <td>False</td>\n",
       "      <td>False</td>\n",
       "      <td>False</td>\n",
       "      <td>False</td>\n",
       "      <td>False</td>\n",
       "      <td>False</td>\n",
       "      <td>False</td>\n",
       "      <td>False</td>\n",
       "    </tr>\n",
       "    <tr>\n",
       "      <th>4</th>\n",
       "      <td>False</td>\n",
       "      <td>False</td>\n",
       "      <td>False</td>\n",
       "      <td>False</td>\n",
       "      <td>False</td>\n",
       "      <td>False</td>\n",
       "      <td>False</td>\n",
       "      <td>False</td>\n",
       "      <td>False</td>\n",
       "      <td>False</td>\n",
       "    </tr>\n",
       "    <tr>\n",
       "      <th>...</th>\n",
       "      <td>...</td>\n",
       "      <td>...</td>\n",
       "      <td>...</td>\n",
       "      <td>...</td>\n",
       "      <td>...</td>\n",
       "      <td>...</td>\n",
       "      <td>...</td>\n",
       "      <td>...</td>\n",
       "      <td>...</td>\n",
       "      <td>...</td>\n",
       "    </tr>\n",
       "    <tr>\n",
       "      <th>82</th>\n",
       "      <td>False</td>\n",
       "      <td>True</td>\n",
       "      <td>True</td>\n",
       "      <td>False</td>\n",
       "      <td>False</td>\n",
       "      <td>False</td>\n",
       "      <td>True</td>\n",
       "      <td>False</td>\n",
       "      <td>True</td>\n",
       "      <td>False</td>\n",
       "    </tr>\n",
       "    <tr>\n",
       "      <th>83</th>\n",
       "      <td>False</td>\n",
       "      <td>True</td>\n",
       "      <td>True</td>\n",
       "      <td>False</td>\n",
       "      <td>False</td>\n",
       "      <td>False</td>\n",
       "      <td>True</td>\n",
       "      <td>False</td>\n",
       "      <td>True</td>\n",
       "      <td>False</td>\n",
       "    </tr>\n",
       "    <tr>\n",
       "      <th>84</th>\n",
       "      <td>False</td>\n",
       "      <td>True</td>\n",
       "      <td>True</td>\n",
       "      <td>False</td>\n",
       "      <td>False</td>\n",
       "      <td>False</td>\n",
       "      <td>True</td>\n",
       "      <td>False</td>\n",
       "      <td>True</td>\n",
       "      <td>False</td>\n",
       "    </tr>\n",
       "    <tr>\n",
       "      <th>85</th>\n",
       "      <td>False</td>\n",
       "      <td>True</td>\n",
       "      <td>True</td>\n",
       "      <td>False</td>\n",
       "      <td>True</td>\n",
       "      <td>True</td>\n",
       "      <td>True</td>\n",
       "      <td>False</td>\n",
       "      <td>True</td>\n",
       "      <td>True</td>\n",
       "    </tr>\n",
       "    <tr>\n",
       "      <th>86</th>\n",
       "      <td>False</td>\n",
       "      <td>False</td>\n",
       "      <td>False</td>\n",
       "      <td>False</td>\n",
       "      <td>False</td>\n",
       "      <td>False</td>\n",
       "      <td>False</td>\n",
       "      <td>False</td>\n",
       "      <td>False</td>\n",
       "      <td>False</td>\n",
       "    </tr>\n",
       "  </tbody>\n",
       "</table>\n",
       "<p>87 rows × 10 columns</p>\n",
       "</div>"
      ],
      "text/plain": [
       "     name  height   mass  hair_color  skin_color  eye_color  birth_year  \\\n",
       "0   False   False  False       False       False      False       False   \n",
       "1   False   False  False       False       False      False       False   \n",
       "2   False   False  False       False       False      False       False   \n",
       "3   False   False  False       False       False      False       False   \n",
       "4   False   False  False       False       False      False       False   \n",
       "..    ...     ...    ...         ...         ...        ...         ...   \n",
       "82  False    True   True       False       False      False        True   \n",
       "83  False    True   True       False       False      False        True   \n",
       "84  False    True   True       False       False      False        True   \n",
       "85  False    True   True       False        True       True        True   \n",
       "86  False   False  False       False       False      False       False   \n",
       "\n",
       "    gender  homeworld  species  \n",
       "0    False      False    False  \n",
       "1    False      False    False  \n",
       "2    False      False    False  \n",
       "3    False      False    False  \n",
       "4    False      False    False  \n",
       "..     ...        ...      ...  \n",
       "82   False       True    False  \n",
       "83   False       True    False  \n",
       "84   False       True    False  \n",
       "85   False       True     True  \n",
       "86   False      False    False  \n",
       "\n",
       "[87 rows x 10 columns]"
      ]
     },
     "execution_count": 169,
     "metadata": {},
     "output_type": "execute_result"
    }
   ],
   "source": [
    "#isnull\n",
    "df.isnull()"
   ]
  },
  {
   "cell_type": "markdown",
   "metadata": {},
   "source": [
    "<a id=\"2\"></a>"
   ]
  },
  {
   "cell_type": "markdown",
   "metadata": {},
   "source": [
    "## <p style=\"background-color:#9d4f8c; font-family:newtimeroman; color:#FFF9ED; font-size:150%; text-align:center; border-radius:10px 10px;\">\"TASK_1 Plotting the Star Wars characters by genders\"</p>\n",
    "\n",
    "\n",
    "<a href=\"#toc\" class=\"btn btn-primary btn-sm\" role=\"button\" aria-pressed=\"true\" \n",
    "style=\"color:blue; background-color:#dfa8e4\" data-toggle=\"popover\">Content</a>"
   ]
  },
  {
   "cell_type": "code",
   "execution_count": 170,
   "metadata": {
    "scrolled": true
   },
   "outputs": [
    {
     "data": {
      "text/plain": [
       "0          male\n",
       "1     no gender\n",
       "2     no gender\n",
       "3          male\n",
       "4        female\n",
       "        ...    \n",
       "82       female\n",
       "83         male\n",
       "84         none\n",
       "85       female\n",
       "86       female\n",
       "Name: gender, Length: 87, dtype: object"
      ]
     },
     "execution_count": 170,
     "metadata": {},
     "output_type": "execute_result"
    }
   ],
   "source": [
    "# gender\n",
    "df['gender']"
   ]
  },
  {
   "cell_type": "markdown",
   "metadata": {
    "id": "JOGI8qIdxgIP"
   },
   "source": [
    "**This can now be plotted much more concisely.**<br>\n",
    "Axes.bar_label() automatically labels bars [since matplotlib 3.4](https://matplotlib.org/stable/api/_as_gen/matplotlib.axes.Axes.bar_label.html)"
   ]
  },
  {
   "cell_type": "code",
   "execution_count": 171,
   "metadata": {},
   "outputs": [
    {
     "data": {
      "text/plain": [
       "gender\n",
       "male             62\n",
       "female           19\n",
       "no gender         3\n",
       "none              2\n",
       "hermaphrodite     1\n",
       "Name: count, dtype: int64"
      ]
     },
     "execution_count": 171,
     "metadata": {},
     "output_type": "execute_result"
    }
   ],
   "source": [
    "df['gender'].value_counts()"
   ]
  },
  {
   "cell_type": "code",
   "execution_count": 172,
   "metadata": {},
   "outputs": [
    {
     "data": {
      "text/plain": [
       "gender\n",
       "male             62\n",
       "female           19\n",
       "no gender         5\n",
       "hermaphrodite     1\n",
       "Name: count, dtype: int64"
      ]
     },
     "execution_count": 172,
     "metadata": {},
     "output_type": "execute_result"
    }
   ],
   "source": [
    "df.loc[df['gender'] == 'none','gender'] = 'no gender'\n",
    "\n",
    "gender = df['gender'].value_counts()\n",
    "\n",
    "gender"
   ]
  },
  {
   "cell_type": "code",
   "execution_count": 173,
   "metadata": {},
   "outputs": [
    {
     "data": {
      "image/png": "[encoded data removed]",
      "text/plain": [
       "<Figure size 640x480 with 1 Axes>"
      ]
     },
     "metadata": {},
     "output_type": "display_data"
    }
   ],
   "source": [
    "# with seaborn barplot\n",
    "\n",
    "ax = sns.barplot(x=gender.index, y=gender.values)"
   ]
  },
  {
   "cell_type": "code",
   "execution_count": 174,
   "metadata": {
    "id": "aZScRhqP2alT",
    "outputId": "eda1db7e-bb82-49f6-aeec-f1bef62ed87f",
    "scrolled": false
   },
   "outputs": [
    {
     "data": {
      "image/png": "[encoded data removed]",
      "text/plain": [
       "<Figure size 800x500 with 1 Axes>"
      ]
     },
     "metadata": {},
     "output_type": "display_data"
    }
   ],
   "source": [
    "# with seaborn countplot\n",
    "\n",
    "plt.figure(figsize=(8,5))\n",
    "\n",
    "sns.countplot(x='gender', data=df[['gender']]);"
   ]
  },
  {
   "cell_type": "markdown",
   "metadata": {},
   "source": [
    "<a id=\"3\"></a>"
   ]
  },
  {
   "cell_type": "markdown",
   "metadata": {},
   "source": [
    "## <p style=\"background-color:#9d4f8c; font-family:newtimeroman; color:#FFF9ED; font-size:150%; text-align:center; border-radius:10px 10px;\">\"TASK_2 Plotting the characters by eye color\"</p>\n",
    " \n",
    "\n",
    "<a href=\"#toc\" class=\"btn btn-primary btn-sm\" role=\"button\" aria-pressed=\"true\" \n",
    "style=\"color:blue; background-color:#dfa8e4\" data-toggle=\"popover\">Content</a>"
   ]
  },
  {
   "cell_type": "code",
   "execution_count": 175,
   "metadata": {
    "scrolled": true
   },
   "outputs": [
    {
     "data": {
      "text/plain": [
       "eye_color\n",
       "brown            21\n",
       "blue             19\n",
       "yellow           11\n",
       "black            10\n",
       "orange            8\n",
       "red               5\n",
       "hazel             3\n",
       "blue-gray         1\n",
       "pink              1\n",
       "red, blue         1\n",
       "gold              1\n",
       "green, yellow     1\n",
       "white             1\n",
       "dark              1\n",
       "Name: count, dtype: int64"
      ]
     },
     "execution_count": 175,
     "metadata": {},
     "output_type": "execute_result"
    }
   ],
   "source": [
    "# eye_color\n",
    "df['eye_color'].value_counts()"
   ]
  },
  {
   "cell_type": "code",
   "execution_count": 176,
   "metadata": {},
   "outputs": [
    {
     "data": {
      "text/plain": [
       "eye_color\n",
       "brown            21\n",
       "blue             19\n",
       "yellow           11\n",
       "black            11\n",
       "orange            8\n",
       "red               5\n",
       "hazel             3\n",
       "blue-gray         1\n",
       "pink              1\n",
       "red, blue         1\n",
       "gold              1\n",
       "green, yellow     1\n",
       "white             1\n",
       "Name: count, dtype: int64"
      ]
     },
     "execution_count": 176,
     "metadata": {},
     "output_type": "execute_result"
    }
   ],
   "source": [
    "# Clean 'eye_color' data\n",
    "df.loc[df['eye_color']=='dark','eye_color'] = 'black'\n",
    "\n",
    "eye_color = df['eye_color'].value_counts()\n",
    "\n",
    "eye_color"
   ]
  },
  {
   "cell_type": "code",
   "execution_count": 177,
   "metadata": {},
   "outputs": [
    {
     "data": {
      "image/png": "[encoded data removed]",
      "text/plain": [
       "<Figure size 640x480 with 1 Axes>"
      ]
     },
     "metadata": {},
     "output_type": "display_data"
    }
   ],
   "source": [
    "# with seaborn barplot\n",
    "\n",
    "ax = sns.barplot(y=eye_color.index, x=eye_color.values)"
   ]
  },
  {
   "cell_type": "code",
   "execution_count": 178,
   "metadata": {
    "scrolled": false
   },
   "outputs": [
    {
     "data": {
      "image/png": "[encoded data removed]",
      "text/plain": [
       "<Figure size 640x480 with 1 Axes>"
      ]
     },
     "metadata": {},
     "output_type": "display_data"
    }
   ],
   "source": [
    "# with seaborn countplot\n",
    "\n",
    "sns.countplot(y='eye_color', data=df[['eye_color']]);"
   ]
  },
  {
   "cell_type": "markdown",
   "metadata": {},
   "source": [
    "<a id=\"4\"></a>"
   ]
  },
  {
   "cell_type": "markdown",
   "metadata": {},
   "source": [
    "## <p style=\"background-color:#9d4f8c; font-family:newtimeroman; color:#FFF9ED; font-size:150%; text-align:center; border-radius:10px 10px;\">TASK_3 - Plotting the MASS under 3 groups: \"High_mass\", \"Normal_mass\", \"Low_mass\" </p>\n",
    "\n",
    "\n",
    "<a href=\"#toc\" class=\"btn btn-primary btn-sm\" role=\"button\" aria-pressed=\"true\" \n",
    "style=\"color:blue; background-color:#dfa8e4\" data-toggle=\"popover\">Content</a>"
   ]
  },
  {
   "cell_type": "raw",
   "metadata": {
    "vscode": {
     "languageId": "raw"
    }
   },
   "source": [
    "Note:\n",
    "\"High_mass    >=100.0\n",
    "\"Normal_mass  >50.0  <100.0\n",
    "\"Low_mass     <=50"
   ]
  },
  {
   "cell_type": "code",
   "execution_count": 179,
   "metadata": {},
   "outputs": [
    {
     "name": "stdout",
     "output_type": "stream",
     "text": [
      "<class 'pandas.core.series.Series'>\n",
      "RangeIndex: 87 entries, 0 to 86\n",
      "Series name: mass\n",
      "Non-Null Count  Dtype  \n",
      "--------------  -----  \n",
      "59 non-null     float64\n",
      "dtypes: float64(1)\n",
      "memory usage: 828.0 bytes\n"
     ]
    }
   ],
   "source": [
    "df['mass'].info()"
   ]
  },
  {
   "cell_type": "code",
   "execution_count": 180,
   "metadata": {},
   "outputs": [],
   "source": [
    "# df['mass'] = pd.to_numeric(df['mass'], errors='coerce')"
   ]
  },
  {
   "cell_type": "code",
   "execution_count": 181,
   "metadata": {},
   "outputs": [
    {
     "data": {
      "text/plain": [
       "mass\n",
       "80.0      6\n",
       "79.0      4\n",
       "77.0      3\n",
       "75.0      3\n",
       "84.0      3\n",
       "55.0      2\n",
       "45.0      2\n",
       "50.0      2\n",
       "82.0      2\n",
       "48.0      2\n",
       "136.0     2\n",
       "32.0      2\n",
       "88.0      1\n",
       "102.0     1\n",
       "66.0      1\n",
       "85.0      1\n",
       "15.0      1\n",
       "87.0      1\n",
       "65.0      1\n",
       "57.0      1\n",
       "40.0      1\n",
       "56.2      1\n",
       "68.0      1\n",
       "90.0      1\n",
       "89.0      1\n",
       "20.0      1\n",
       "83.0      1\n",
       "113.0     1\n",
       "140.0     1\n",
       "78.2      1\n",
       "17.0      1\n",
       "110.0     1\n",
       "1358.0    1\n",
       "74.0      1\n",
       "112.0     1\n",
       "120.0     1\n",
       "49.0      1\n",
       "159.0     1\n",
       "Name: count, dtype: int64"
      ]
     },
     "execution_count": 181,
     "metadata": {},
     "output_type": "execute_result"
    }
   ],
   "source": [
    "#mass_cat\n",
    "# df[['mass']]\n",
    "df['mass'].value_counts()"
   ]
  },
  {
   "cell_type": "code",
   "execution_count": 182,
   "metadata": {},
   "outputs": [
    {
     "data": {
      "text/html": [
       "<div>\n",
       "<style scoped>\n",
       "    .dataframe tbody tr th:only-of-type {\n",
       "        vertical-align: middle;\n",
       "    }\n",
       "\n",
       "    .dataframe tbody tr th {\n",
       "        vertical-align: top;\n",
       "    }\n",
       "\n",
       "    .dataframe thead th {\n",
       "        text-align: right;\n",
       "    }\n",
       "</style>\n",
       "<table border=\"1\" class=\"dataframe\">\n",
       "  <thead>\n",
       "    <tr style=\"text-align: right;\">\n",
       "      <th></th>\n",
       "      <th>name</th>\n",
       "      <th>height</th>\n",
       "      <th>mass</th>\n",
       "      <th>hair_color</th>\n",
       "      <th>skin_color</th>\n",
       "      <th>eye_color</th>\n",
       "      <th>birth_year</th>\n",
       "      <th>gender</th>\n",
       "      <th>homeworld</th>\n",
       "      <th>species</th>\n",
       "      <th>mass_cat</th>\n",
       "    </tr>\n",
       "  </thead>\n",
       "  <tbody>\n",
       "    <tr>\n",
       "      <th>0</th>\n",
       "      <td>Luke Skywalker</td>\n",
       "      <td>172.0</td>\n",
       "      <td>77.0</td>\n",
       "      <td>blond</td>\n",
       "      <td>fair</td>\n",
       "      <td>blue</td>\n",
       "      <td>19BBY</td>\n",
       "      <td>male</td>\n",
       "      <td>Tatooine</td>\n",
       "      <td>Human</td>\n",
       "      <td>Normal_mass</td>\n",
       "    </tr>\n",
       "    <tr>\n",
       "      <th>1</th>\n",
       "      <td>C-3PO</td>\n",
       "      <td>167.0</td>\n",
       "      <td>75.0</td>\n",
       "      <td>no hair</td>\n",
       "      <td>gold</td>\n",
       "      <td>yellow</td>\n",
       "      <td>112BBY</td>\n",
       "      <td>no gender</td>\n",
       "      <td>Tatooine</td>\n",
       "      <td>Droid</td>\n",
       "      <td>Normal_mass</td>\n",
       "    </tr>\n",
       "    <tr>\n",
       "      <th>2</th>\n",
       "      <td>R2-D2</td>\n",
       "      <td>96.0</td>\n",
       "      <td>32.0</td>\n",
       "      <td>no hair</td>\n",
       "      <td>white, blue</td>\n",
       "      <td>red</td>\n",
       "      <td>33BBY</td>\n",
       "      <td>no gender</td>\n",
       "      <td>Naboo</td>\n",
       "      <td>Droid</td>\n",
       "      <td>Low_mass</td>\n",
       "    </tr>\n",
       "    <tr>\n",
       "      <th>3</th>\n",
       "      <td>Darth Vader</td>\n",
       "      <td>202.0</td>\n",
       "      <td>136.0</td>\n",
       "      <td>none</td>\n",
       "      <td>white</td>\n",
       "      <td>yellow</td>\n",
       "      <td>41.9BBY</td>\n",
       "      <td>male</td>\n",
       "      <td>Tatooine</td>\n",
       "      <td>Human</td>\n",
       "      <td>High_mass</td>\n",
       "    </tr>\n",
       "    <tr>\n",
       "      <th>4</th>\n",
       "      <td>Leia Organa</td>\n",
       "      <td>150.0</td>\n",
       "      <td>49.0</td>\n",
       "      <td>brown</td>\n",
       "      <td>light</td>\n",
       "      <td>brown</td>\n",
       "      <td>19BBY</td>\n",
       "      <td>female</td>\n",
       "      <td>Alderaan</td>\n",
       "      <td>Human</td>\n",
       "      <td>Low_mass</td>\n",
       "    </tr>\n",
       "    <tr>\n",
       "      <th>...</th>\n",
       "      <td>...</td>\n",
       "      <td>...</td>\n",
       "      <td>...</td>\n",
       "      <td>...</td>\n",
       "      <td>...</td>\n",
       "      <td>...</td>\n",
       "      <td>...</td>\n",
       "      <td>...</td>\n",
       "      <td>...</td>\n",
       "      <td>...</td>\n",
       "      <td>...</td>\n",
       "    </tr>\n",
       "    <tr>\n",
       "      <th>82</th>\n",
       "      <td>Rey</td>\n",
       "      <td>NaN</td>\n",
       "      <td>NaN</td>\n",
       "      <td>brown</td>\n",
       "      <td>light</td>\n",
       "      <td>hazel</td>\n",
       "      <td>NaN</td>\n",
       "      <td>female</td>\n",
       "      <td>NaN</td>\n",
       "      <td>Human</td>\n",
       "      <td>NaN</td>\n",
       "    </tr>\n",
       "    <tr>\n",
       "      <th>83</th>\n",
       "      <td>Poe Dameron</td>\n",
       "      <td>NaN</td>\n",
       "      <td>NaN</td>\n",
       "      <td>brown</td>\n",
       "      <td>light</td>\n",
       "      <td>brown</td>\n",
       "      <td>NaN</td>\n",
       "      <td>male</td>\n",
       "      <td>NaN</td>\n",
       "      <td>Human</td>\n",
       "      <td>NaN</td>\n",
       "    </tr>\n",
       "    <tr>\n",
       "      <th>84</th>\n",
       "      <td>BB8</td>\n",
       "      <td>NaN</td>\n",
       "      <td>NaN</td>\n",
       "      <td>no hair</td>\n",
       "      <td>none</td>\n",
       "      <td>black</td>\n",
       "      <td>NaN</td>\n",
       "      <td>no gender</td>\n",
       "      <td>NaN</td>\n",
       "      <td>Droid</td>\n",
       "      <td>NaN</td>\n",
       "    </tr>\n",
       "    <tr>\n",
       "      <th>85</th>\n",
       "      <td>Captain Phasma</td>\n",
       "      <td>NaN</td>\n",
       "      <td>NaN</td>\n",
       "      <td>none</td>\n",
       "      <td>NaN</td>\n",
       "      <td>NaN</td>\n",
       "      <td>NaN</td>\n",
       "      <td>female</td>\n",
       "      <td>NaN</td>\n",
       "      <td>NaN</td>\n",
       "      <td>NaN</td>\n",
       "    </tr>\n",
       "    <tr>\n",
       "      <th>86</th>\n",
       "      <td>PadmÃ© Amidala</td>\n",
       "      <td>165.0</td>\n",
       "      <td>45.0</td>\n",
       "      <td>brown</td>\n",
       "      <td>light</td>\n",
       "      <td>brown</td>\n",
       "      <td>46BBY</td>\n",
       "      <td>female</td>\n",
       "      <td>Naboo</td>\n",
       "      <td>Human</td>\n",
       "      <td>Low_mass</td>\n",
       "    </tr>\n",
       "  </tbody>\n",
       "</table>\n",
       "<p>87 rows × 11 columns</p>\n",
       "</div>"
      ],
      "text/plain": [
       "              name  height   mass hair_color   skin_color eye_color  \\\n",
       "0   Luke Skywalker   172.0   77.0      blond         fair      blue   \n",
       "1            C-3PO   167.0   75.0    no hair         gold    yellow   \n",
       "2            R2-D2    96.0   32.0    no hair  white, blue       red   \n",
       "3      Darth Vader   202.0  136.0       none        white    yellow   \n",
       "4      Leia Organa   150.0   49.0      brown        light     brown   \n",
       "..             ...     ...    ...        ...          ...       ...   \n",
       "82             Rey     NaN    NaN      brown        light     hazel   \n",
       "83     Poe Dameron     NaN    NaN      brown        light     brown   \n",
       "84             BB8     NaN    NaN    no hair         none     black   \n",
       "85  Captain Phasma     NaN    NaN       none          NaN       NaN   \n",
       "86  PadmÃ© Amidala   165.0   45.0      brown        light     brown   \n",
       "\n",
       "   birth_year     gender homeworld species     mass_cat  \n",
       "0       19BBY       male  Tatooine   Human  Normal_mass  \n",
       "1      112BBY  no gender  Tatooine   Droid  Normal_mass  \n",
       "2       33BBY  no gender     Naboo   Droid     Low_mass  \n",
       "3     41.9BBY       male  Tatooine   Human    High_mass  \n",
       "4       19BBY     female  Alderaan   Human     Low_mass  \n",
       "..        ...        ...       ...     ...          ...  \n",
       "82        NaN     female       NaN   Human          NaN  \n",
       "83        NaN       male       NaN   Human          NaN  \n",
       "84        NaN  no gender       NaN   Droid          NaN  \n",
       "85        NaN     female       NaN     NaN          NaN  \n",
       "86      46BBY     female     Naboo   Human     Low_mass  \n",
       "\n",
       "[87 rows x 11 columns]"
      ]
     },
     "execution_count": 182,
     "metadata": {},
     "output_type": "execute_result"
    }
   ],
   "source": [
    "# df.loc[df['mass'] >= 100,'mass']\n",
    "\n",
    "def categorise_mass(x):\n",
    "    if x >= 100:\n",
    "        return 'High_mass'\n",
    "    elif x > 50 and x < 100:\n",
    "        return 'Normal_mass'\n",
    "    elif x <= 50:\n",
    "        return 'Low_mass'\n",
    "    else:\n",
    "        return np.nan\n",
    "\n",
    "df['mass_cat'] = df['mass'].apply(categorise_mass)\n",
    "\n",
    "# df[['mass']]\n",
    "df"
   ]
  },
  {
   "cell_type": "code",
   "execution_count": null,
   "metadata": {
    "id": "wovhY6u-2alU",
    "outputId": "f135c95f-4d8d-443d-ab38-7a9f9086518e",
    "scrolled": false
   },
   "outputs": [],
   "source": [
    "# with seaborn barplot\n",
    "\n",
    "ax = sns.barplot()"
   ]
  },
  {
   "cell_type": "markdown",
   "metadata": {
    "id": "EzoB9dKL4kFu"
   },
   "source": [
    "**Seaborn color palettes**\n",
    "\n",
    "sns.color_palette(\"bone\", n_colors=20)\n",
    "\n",
    "\n",
    "https://seaborn.pydata.org/tutorial/color_palettes.html\n",
    "https://www.practicalpythonfordatascience.com/ap_seaborn_palette"
   ]
  },
  {
   "cell_type": "code",
   "execution_count": 184,
   "metadata": {
    "id": "btgi4Dy_2alU",
    "outputId": "e5659cb1-d0c8-40b7-eee6-a893ae009d98",
    "scrolled": false
   },
   "outputs": [],
   "source": [
    "# with seaborn countplot\n"
   ]
  },
  {
   "cell_type": "markdown",
   "metadata": {},
   "source": [
    "<a id=\"5\"></a>"
   ]
  },
  {
   "cell_type": "markdown",
   "metadata": {},
   "source": [
    "## <p style=\"background-color:#9d4f8c; font-family:newtimeroman; color:#FFF9ED; font-size:150%; text-align:center; border-radius:10px 10px;\">\"TASK_4 - Plotting the species top 5\"</p>\n",
    "\n",
    "\n",
    "<a href=\"#toc\" class=\"btn btn-primary btn-sm\" role=\"button\" aria-pressed=\"true\" \n",
    "style=\"color:blue; background-color:#dfa8e4\" data-toggle=\"popover\">Content</a>"
   ]
  },
  {
   "cell_type": "code",
   "execution_count": 185,
   "metadata": {
    "scrolled": false
   },
   "outputs": [],
   "source": [
    "#species_freq\n"
   ]
  },
  {
   "cell_type": "markdown",
   "metadata": {},
   "source": [
    "https://www.statology.org/seaborn-barplot-color/"
   ]
  },
  {
   "cell_type": "code",
   "execution_count": 186,
   "metadata": {
    "scrolled": false
   },
   "outputs": [],
   "source": [
    "# with seaborn Barplot\n",
    "\n"
   ]
  },
  {
   "cell_type": "code",
   "execution_count": 187,
   "metadata": {
    "id": "_U9pCMT7xgIQ",
    "outputId": "acdeeb1a-7e3e-49ce-ddc5-0b3ff5a126dc",
    "scrolled": false
   },
   "outputs": [],
   "source": [
    "# With Seaborn Countplot\n"
   ]
  },
  {
   "cell_type": "markdown",
   "metadata": {},
   "source": [
    "<a id=\"6\"></a>"
   ]
  },
  {
   "cell_type": "markdown",
   "metadata": {},
   "source": [
    "## <p style=\"background-color:#9d4f8c; font-family:newtimeroman; color:#FFF9ED; font-size:150%; text-align:center; border-radius:10px 10px;\">\"TASK_5 - Plotting the characters by skin_color top 7\"</p>\n",
    "\n",
    "\n",
    "<a href=\"#toc\" class=\"btn btn-primary btn-sm\" role=\"button\" aria-pressed=\"true\" \n",
    "style=\"color:blue; background-color:#dfa8e4\" data-toggle=\"popover\">Content</a>"
   ]
  },
  {
   "cell_type": "code",
   "execution_count": 188,
   "metadata": {},
   "outputs": [],
   "source": [
    "#skin_color top 7\n"
   ]
  },
  {
   "cell_type": "code",
   "execution_count": 189,
   "metadata": {
    "scrolled": false
   },
   "outputs": [],
   "source": [
    "# with seaborn Barplot\n"
   ]
  },
  {
   "cell_type": "code",
   "execution_count": 190,
   "metadata": {},
   "outputs": [],
   "source": [
    "# with seaborn countplot\n"
   ]
  },
  {
   "cell_type": "markdown",
   "metadata": {},
   "source": [
    "<a id=\"7\"></a>"
   ]
  },
  {
   "cell_type": "markdown",
   "metadata": {},
   "source": [
    "## <p style=\"background-color:#9d4f8c; font-family:newtimeroman; color:#FFF9ED; font-size:150%; text-align:center; border-radius:10px 10px;\">\"TASK_6 - Plotting the Box plot and Swarm plot\"</p>\n",
    "\n",
    "\n",
    "<a href=\"#toc\" class=\"btn btn-primary btn-sm\" role=\"button\" aria-pressed=\"true\" \n",
    "style=\"color:blue; background-color:#dfa8e4\" data-toggle=\"popover\">Content</a>"
   ]
  },
  {
   "cell_type": "markdown",
   "metadata": {
    "id": "N-ffSN0_xgH_"
   },
   "source": [
    "### <p style=\"background-color:#9d4f8c; font-family:newtimeroman; color:#FFF9ED; font-size:150%; text-align:left; border-radius:10px 10px;\">6.1 - Plotting the Box plot of height</p></p>"
   ]
  },
  {
   "cell_type": "code",
   "execution_count": 191,
   "metadata": {},
   "outputs": [],
   "source": [
    "# with seaborn boxplot\n"
   ]
  },
  {
   "cell_type": "markdown",
   "metadata": {},
   "source": [
    "### <p style=\"background-color:#9d4f8c; font-family:newtimeroman; color:#FFF9ED; font-size:150%; text-align:left; border-radius:10px 10px;\">6.2 - Plotting the Swarm Plot of height in genders separeted by mass_cat.</p>\n"
   ]
  },
  {
   "cell_type": "code",
   "execution_count": 192,
   "metadata": {
    "id": "Oiob21gp2alO",
    "outputId": "a264e2bc-f324-49c6-c094-dad1953426f0"
   },
   "outputs": [],
   "source": [
    "# with seaborn Swarmplot\n"
   ]
  },
  {
   "cell_type": "markdown",
   "metadata": {},
   "source": [
    "<a id=\"8\"></a>"
   ]
  },
  {
   "cell_type": "markdown",
   "metadata": {},
   "source": [
    "## <p style=\"background-color:#9d4f8c; font-family:newtimeroman; color:#FFF9ED; font-size:150%; text-align:center; border-radius:10px 10px;\">\"TASK_7 - Plotting height histogram\" </p>\n",
    "\n",
    "\n",
    "<a href=\"#toc\" class=\"btn btn-primary btn-sm\" role=\"button\" aria-pressed=\"true\" \n",
    "style=\"color:blue; background-color:#dfa8e4\" data-toggle=\"popover\">Content</a>"
   ]
  },
  {
   "cell_type": "code",
   "execution_count": null,
   "metadata": {
    "scrolled": false
   },
   "outputs": [],
   "source": []
  },
  {
   "cell_type": "markdown",
   "metadata": {
    "id": "N-ffSN0_xgH_"
   },
   "source": [
    "### <p style=\"background-color:#9d4f8c; font-family:newtimeroman; color:#FFF9ED; font-size:150%; text-align:left; border-radius:10px 10px;\">7.1 - Plotting the histogram of height</p>"
   ]
  },
  {
   "cell_type": "code",
   "execution_count": 193,
   "metadata": {
    "scrolled": false
   },
   "outputs": [],
   "source": [
    "# with seaborn histogram\n"
   ]
  },
  {
   "cell_type": "markdown",
   "metadata": {
    "id": "N-ffSN0_xgH_"
   },
   "source": [
    "### <p style=\"background-color:#9d4f8c; font-family:newtimeroman; color:#FFF9ED; font-size:150%; text-align:left; border-radius:10px 10px;\">7.2 - Plotting the   histogram together kde of height</p>"
   ]
  },
  {
   "cell_type": "code",
   "execution_count": 194,
   "metadata": {
    "scrolled": false
   },
   "outputs": [],
   "source": [
    "# with seaborn histogram + kde\n"
   ]
  },
  {
   "cell_type": "markdown",
   "metadata": {
    "id": "N-ffSN0_xgH_"
   },
   "source": [
    "### <p style=\"background-color:#9d4f8c; font-family:newtimeroman; color:#FFF9ED; font-size:150%; text-align:left; border-radius:10px 10px;\">7.3 - Plotting the histogram height by species and gender</p>"
   ]
  },
  {
   "cell_type": "code",
   "execution_count": 195,
   "metadata": {},
   "outputs": [],
   "source": [
    "# with seaborn histogram (height by species and gender)\n"
   ]
  },
  {
   "cell_type": "markdown",
   "metadata": {
    "id": "5x2MPEO3-dbv"
   },
   "source": [
    "## <p style=\"background-color:#9d4f8c; font-family:newtimeroman; color:#FFF9ED; font-size:150%; text-align:center; border-radius:10px 10px;\">THE END OF THE ASSIGNMENT 01</p>\n",
    "\n",
    "# Now. it's time to relax!\n",
    "\n",
    "![Image_Assignment](https://i.ibb.co/jZD3Mqb/relaxing.jpg)\n",
    "\n",
    "<a id=\"10\"></a>\n",
    "<a href=\"#toc\" class=\"btn btn-primary btn-sm\" role=\"button\" aria-pressed=\"true\" \n",
    "style=\"color:blue; background-color:#dfa8e4\" data-toggle=\"popover\">Content</a>\n",
    "\n",
    "\n",
    "<p style=\"text-align: center;\"><img src=\"https://i.ibb.co/99DQ3TY/DS-Courses.png\" class=\"img-fluid\" \n",
    "alt=\"CLRSWY\"></p>\n",
    "\n",
    "\n",
    "<br><br><br>\n",
    "\n",
    "<p style=\"text-align: center;\"><img src=\"https://i.ibb.co/Rpz9L36/clarusway-logo-black.png\" width=\"450\" height=\"200\" class=\"img-fluid\" alt=\"CLRSWY_LOGO\"></p>\n",
    "\n",
    "<p style=\"background-color:#E51A59; font-family:newtimeroman; color:#FDFEFE; font-size:130%; text-align:center; border-radius:10px 10px;\">WAY TO REINVENT YOURSELF</p>"
   ]
  },
  {
   "cell_type": "markdown",
   "metadata": {},
   "source": [
    "<a href=\"https://clarusway.com/contact-us/\"><img align=\"center\" src=\"https://i.ibb.co/B43qn24/officially-licensed-logo.png\" alt=\"Open in Clarusway LMS\" width=\"110\" height=\"200\" title=\"This notebook is licensed by Clarusway IT training school. Please contact the authorized persons about the conditions under which you can use or share.\"></a>"
   ]
  }
 ],
 "metadata": {
  "colab": {
   "collapsed_sections": [],
   "name": "DV_capstone_solution.ipynb",
   "provenance": [],
   "toc_visible": true
  },
  "kernelspec": {
   "display_name": "base",
   "language": "python",
   "name": "python3"
  },
  "language_info": {
   "codemirror_mode": {
    "name": "ipython",
    "version": 3
   },
   "file_extension": ".py",
   "mimetype": "text/x-python",
   "name": "python",
   "nbconvert_exporter": "python",
   "pygments_lexer": "ipython3",
   "version": "3.12.4"
  },
  "toc": {
   "base_numbering": 1,
   "nav_menu": {},
   "number_sections": false,
   "sideBar": true,
   "skip_h1_title": false,
   "title_cell": "Table of Contents",
   "title_sidebar": "Contents",
   "toc_cell": false,
   "toc_position": {},
   "toc_section_display": true,
   "toc_window_display": true
  }
 },
 "nbformat": 4,
 "nbformat_minor": 1
}
