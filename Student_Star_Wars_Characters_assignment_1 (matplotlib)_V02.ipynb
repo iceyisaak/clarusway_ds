{
 "cells": [
  {
   "cell_type": "markdown",
   "metadata": {},
   "source": [
    "<a href=\"https://clarusway.com/contact-us/\"><img align=\"center\" src=\"https://i.ibb.co/B43qn24/officially-licensed-logo.png\" alt=\"Open in Clarusway LMS\" width=\"110\" height=\"200\" title=\"This notebook is licensed by Clarusway IT training school. Please contact the authorized persons about the conditions under which you can use or share.\"></a>"
   ]
  },
  {
   "cell_type": "markdown",
   "metadata": {},
   "source": [
    "<hr>\n",
    "\n",
    "<a href=\"https://lms.clarusway.com/course/view.php?id=7435\"><img align=\"right\" src=\"https://i.ibb.co/6Z5pQxD/lmss.png\" alt=\"Open in Clarusway LMS\" width=\"70\" height=\"150\" title=\"Open Clarusway Learning Management Sytem\"></a>\n",
    "\n",
    "<a href=\"https://github.com/clarusway/DS-DE0824-TR-DA-Students/tree/main/1-%20Classes%20%26%20Labs/3-%20DVwPy\"><img align=\"left\" src=\"https://i.ibb.co/n3HWyQX/github-logo.png\" alt=\"Open in Clarusway GitHub\" width=\"110\" height=\"150\" title=\"Open and Execute in Clarusway GitHub Repository\"></a>\n",
    "\n",
    "<br/>\n",
    "<br/>\n",
    "\n",
    "<hr>\n",
    "\n",
    "<p style=\"text-align: center;\"><img src=\"https://i.ibb.co/Rpz9L36/clarusway-logo-black.png\" width=\"500\" height=\"200\" class=\"img-fluid\" alt=\"CLRSWY_LOGO\"></p>\n",
    "\n",
    "<p style=\"text-align: center;\"><img src=\"https://i.ibb.co/XS0bxSH/best-bootcamps.png\" width=\"300\" height=\"200\" class=\"img-fluid\" alt=\"CLRSWY_LOGO\"></p>\n",
    "\n",
    "<p style=\"background-color:#E51A59; font-family:newtimeroman; color:#FDFEFE; font-size:130%; text-align:center; border-radius:10px 10px;\">WAY TO REINVENT YOURSELF</p>\n",
    "\n",
    "<p style=\"text-align: center;\"><img src=\"https://i.ibb.co/99DQ3TY/DS-Courses.png\" class=\"img-fluid\" \n",
    "alt=\"CLRSWY_Courses\"></p>"
   ]
  },
  {
   "cell_type": "markdown",
   "metadata": {
    "id": "xSwVOspA2Zin"
   },
   "source": [
    "## <p style=\"background-color:#9d4f8c; font-family:newtimeroman; color:#FFF9ED; font-size:150%; text-align:center; border-radius:10px 10px;\">STAR WARS - PANDAS & MATPLOTLIB VISUALIZATION TASK</p>\n",
    "\n",
    "![image.jpg](https://upload.wikimedia.org/wikipedia/commons/6/6c/Star_Wars_Logo.svg)\n",
    "\n",
    "[Photo Credit: wikipedia](https://tr.wikipedia.org/wiki/Y%C4%B1ld%C4%B1z_Sava%C5%9Flar%C4%B1#/media/Dosya:Star_Wars_Logo.svg)"
   ]
  },
  {
   "cell_type": "markdown",
   "metadata": {},
   "source": [
    "![image.png](https://i.ibb.co/4gc0nbk/matplotlib.png)\n",
    "\n",
    "Matplotlib was created by **John D. Hunter,** an American neurobiologist, and was first released in 2002. Since then it has an **active development community** and is distributed under a **BSD-style license.** Matplotlib is a plotting library for the Python programming language and its numerical mathematics extension NumPy [Source](https://en.wikipedia.org/wiki/Matplotlib). Matplotlib is a **low level graph plotting library in python** that serves as a visualization utility. Matplotlib is **open source** and we can use it freely. Matplotlib is mostly written in python, a few segments are written in C, Objective-C and Javascript for Platform compatibility [Source](https://www.w3schools.com/python/matplotlib_intro.asp).\n",
    "\n",
    "Matplotlib is a **two-dimensional (2D) plotting library** for Python. With Matplotlib, you can generate lines, scatter graphs, bar charts, histograms, error bars, etc, and even do simple 3D plots using the mplot3d toolkit. Matplotlib has a module called Pyplot, which provides an interface similar to MatLab. [Photo Credit: fullstackpython](https://www.fullstackpython.com/matplotlib.html)\n",
    "\n",
    "[MATPLOTLIB Source01](https://matplotlib.org/),\n",
    "[MATPLOTLIB Source02](https://www.educative.io/edpresso/what-is-matplotlib),\n",
    "[MATPLOTLIB Source03](https://realpython.com/python-matplotlib-guide/),\n",
    "[MATPLOTLIB Source04](https://jakevdp.github.io/PythonDataScienceHandbook/04.00-introduction-to-matplotlib.html), &\n",
    "[MATPLOTLIB Source05](https://medium.com/@developit19/matplotlib-python-651fd07e9234)"
   ]
  },
  {
   "cell_type": "markdown",
   "metadata": {},
   "source": [
    "<a id=\"toc\"></a>\n",
    "\n",
    "## <p style=\"background-color:#9d4f8c; font-family:newtimeroman; color:#FFF9ED; font-size:150%; text-align:center; border-radius:10px 10px;\">CONTENT</p>\n",
    "\n",
    "* [ABOUT THE DATASET & CONTEXT](#0)\n",
    "* [ABOUT THE FEATURES](#00)\n",
    "* [IMPORTING LIBRARIES NEEDED IN THIS NOTEBOOK](#000)\n",
    "* [INSTRUCTIONS (Tasks in the Assignment)](#1)\n",
    "\n",
    "* [Q1 - Plotting the Star Wars Characters by gender](#2)\n",
    "\n",
    "* [Q2 - Plotting the Characters by eye color](#3)\n",
    "\n",
    "* [Q3 - Plotting the MASS unde 3 groups: \"High_mass\", \"Normal_mass\", \"Low_mass\"](#4)\n",
    "\n",
    "* [Q4 - Plotting the species Top 5](#5)\n",
    "\n",
    "* [Q5 - Plotting the Characters by aged > 100 years with names](#6)\n",
    "\n",
    "* [Q6 - Plotting the Characters by hair_color (PIE CHART)](#7)\n"
   ]
  },
  {
   "cell_type": "markdown",
   "metadata": {
    "id": "mN0CH7VfAzaK"
   },
   "source": [
    "\n"
   ]
  },
  {
   "cell_type": "markdown",
   "metadata": {},
   "source": [
    "<a id=\"toc\"></a>\n",
    "\n",
    "## <p style=\"background-color:#9d4f8c; font-family:newtimeroman; color:#FFF9ED; font-size:150%; text-align:center; border-radius:10px 10px;\">ABOUT THE DATASET & CONTEXT</p>\n",
    "\n",
    "Star Wars, created by George Lucas, primarily known for his movies, later years comics, video games, television productions, etc. It is a fictional universe and brand that has increased its reputation in branches. The first movie in the series was released by 20th Century Fox on May 25, 1977 under the name Star Wars and became a worldwide popular culture phenomenon. Two sequels were released three years apart. 16 years after the last movie of the original trilogy was released, the first movie of the \"premise\" trilogy was released, and the other two movies were released three years apart. The \"consecutive\" trilogy started in 2015, and the sequels were released 2 years apart. According to 2019 data, the total revenue of twelve Star Wars movies is approximately 10.25 billion dollars. With this gross, the Star Wars series became the highest-grossing movie series.\n",
    "[Wikipedia Star Wars](https://tr.wikipedia.org/wiki/Y%C4%B1ld%C4%B1z_Sava%C5%9Flar%C4%B1)\n",
    "\n",
    "This dataset contains physical and other personal information about Characters from the Star Wars universe. Name, height, mass, hair_color, skin_color, eye_color, birth_year, gender, homeworld, species.\n",
    "\n",
    "\n",
    "[May 2022 Star Wars Data Dictionary](https://data.world/datafam-con/may-2022-star-wars/workspace/data-dictionary/)<br>\n",
    "[May 2022 Star Wars Characters DATASET](https://data.world/datafam-con/may-2022-star-wars/workspace/file?filename=Star+Wars+characters.xlsx/)<br>\n",
    "\n",
    "\n",
    "**In this assignment, you are supposed to do the exercise yourself to see if you can solve it. While solving the tasks if you need to remember some subjects, please repeat inclass materails in the course and udemy course videos if provided to you.**"
   ]
  },
  {
   "cell_type": "markdown",
   "metadata": {},
   "source": [
    "## <p style=\"background-color:#9d4f8c; font-family:newtimeroman; color:#FFF9ED; font-size:150%; text-align:center; border-radius:10px 10px;\">IMPORTING LIBRARIES NEEDED IN THIS NOTEBOOK</p>\n",
    "\n",
    "<a id=\"000\"></a>\n",
    "<a href=\"#toc\" class=\"btn btn-primary btn-sm\" role=\"button\" aria-pressed=\"true\" \n",
    "style=\"color:blue; background-color:#dfa8e4\" data-toggle=\"popover\">Content</a>"
   ]
  },
  {
   "cell_type": "code",
   "execution_count": 103,
   "metadata": {
    "id": "GL3nsXNYAzaL"
   },
   "outputs": [],
   "source": [
    "import numpy as np\n",
    "import pandas as pd\n",
    "import seaborn as sns\n",
    "import matplotlib.pyplot as plt\n",
    "from pandas.plotting import register_matplotlib_converters\n",
    "from collections import Counter\n",
    "from pylab import rcParams\n",
    "import re\n",
    "sns.set_style(\"darkgrid\")\n",
    "\n",
    "import warnings\n",
    "warnings.filterwarnings(\"ignore\")"
   ]
  },
  {
   "cell_type": "code",
   "execution_count": 104,
   "metadata": {},
   "outputs": [],
   "source": [
    "#https://builtin.com/data-science/pandas-show-all-columns\n",
    "\n",
    "#Set it None to display all rows in the dataframe\n",
    "\n",
    "#pd.set_option('display.max_rows', None)\n",
    "\n",
    "#pd.set_option('display.max_rows', df.shape[0]+1)\n",
    "\n",
    "#Set it to None to display all columns in the dataframe\n",
    "\n",
    "#pd.set_option('display.max_columns', None)\n",
    "\n"
   ]
  },
  {
   "cell_type": "code",
   "execution_count": 105,
   "metadata": {
    "scrolled": true
   },
   "outputs": [
    {
     "name": "stdout",
     "output_type": "stream",
     "text": [
      "matplotlib version: 3.8.4\n",
      "seaborn version: 0.13.2\n"
     ]
    }
   ],
   "source": [
    "import matplotlib\n",
    "print('matplotlib version: {}'.format(matplotlib.__version__))\n",
    "\n",
    "import seaborn\n",
    "print('seaborn version: {}'.format(seaborn.__version__))"
   ]
  },
  {
   "cell_type": "markdown",
   "metadata": {},
   "source": [
    "## <p style=\"background-color:#9d4f8c; font-family:newtimeroman; color:#FFF9ED; font-size:150%; text-align:center; border-radius:10px 10px;\">ABOUT THE FEATURES</p>\n",
    "\n",
    "<a id=\"00\"></a>\n",
    "<a href=\"#toc\" class=\"btn btn-primary btn-sm\" role=\"button\" aria-pressed=\"true\" \n",
    "style=\"color:blue; background-color:#dfa8e4\" data-toggle=\"popover\">Content</a>\n",
    "\n",
    "This dataset contains physical and other personal information about Characters from the Star Wars universe. Name, height, mass, hair_color, skin_color, eye_color, birth_year, gender, homeworld, species.\n",
    "\n",
    " The file can be downloaded at this URL.\n",
    "[May 2022 Star Wars Characters DATASET](https://data.world/datafam-con/may-2022-star-wars/workspace/file?filename=Star+Wars+characters.xlsx/)<br> \n",
    "\n",
    "- **name:** The name of the Characters.<br>Type; string,   \n",
    "    Sample Values: \"Ackbar\", \"Zam Wesell\",</br>\n",
    "</br> \n",
    "- **height:** The height of the Characters. Type;integer \n",
    "- **mass:** The mass of the Characters  Type; decimal\n",
    "- **hair_color:** The hair_color of the Characters. Type; string  \n",
    "- **skin_color:** The skin_color of the Characters. Type; string\n",
    "- **eye_color:** The eye_color of the Characters. Type; string\n",
    "\n",
    "- **birth_year:** The birth_year of the Characters.<br>Type; string,   \n",
    "    Sample Values: \"112BBY\", \"41.9BBY\",</br>\n",
    "    'BBY' stands for 'Before the Battle of Yavin,'\n",
    "</br>         \n",
    "\n",
    "- **gender:** The gender of the Characters.<br>Type; string,   \n",
    "    Sample Values: \n",
    "    \n",
    "      \"male\" (71.26%) \n",
    "      \"female\" (21.84%) \n",
    "      \"NA\" (3.45%)\n",
    "      \"none\" (2.3%)\n",
    "      \"hermaphrodite\" (1.15%) \n",
    "</br>  \n",
    "\n",
    "- **homeworld:** The homeworld of the Characters.<br>Type; string,   \n",
    "    Sample Values: \n",
    "    \n",
    "      \"Alderaan\" \n",
    "      \"Zolan\"\n",
    "</br>  \n",
    "\n",
    "- **species:** The species of the Characters.<br>Type; string,   \n",
    "    Sample Values: \n",
    "    \n",
    "      \"Aleena\" \n",
    "      \"Zabrak\"\n",
    "</br>  "
   ]
  },
  {
   "cell_type": "markdown",
   "metadata": {
    "id": "Rsu0y4Ha2Zit"
   },
   "source": [
    "## <p style=\"background-color:#9d4f8c; font-family:newtimeroman; color:#FFF9ED; font-size:150%; text-align:center; border-radius:10px 10px;\">INSTRUCTIONS (Tasks in the Assignment)</p>\n",
    "\n",
    "<a id=\"1\"></a>\n",
    "<a href=\"#toc\" class=\"btn btn-primary btn-sm\" role=\"button\" aria-pressed=\"true\" \n",
    "style=\"color:blue; background-color:#dfa8e4\" data-toggle=\"popover\">Content</a>\n",
    "\n",
    "**In this assignment you're required to handle with the following tasks:** \n",
    "\n",
    "- **Task 1.** Plotting the Star Wars Characters by gender<br>\n",
    "- **Task 2.** Plotting the Characters by eye color <br>\n",
    "- **Task 3.** Plotting the MASS unde 3 groups: \"High_mass\", \"Normal_mass\", \"Low_mass\"<br>\n",
    "- **Task 4.** Plotting the species Top 5<br>\n",
    "- **Task 5.** Plotting the Characters by aged > 100 years with names<br>\n",
    "- **Task 6.** Plotting the Characters by hair_color (PIE CHART)<br>"
   ]
  },
  {
   "cell_type": "markdown",
   "metadata": {
    "id": "YgMNG9aJ3dXa"
   },
   "source": [
    "**Now Let us first try to load and read the Star_Wars_characters dataset. [SOURCE](https://towardsdatascience.com/learn-how-to-read-data-into-a-pandas-dataframe-in-5-minutes-122af8e0b9db) for learning how to read data into a Pandas DataFrame in 5 minutes.**  "
   ]
  },
  {
   "cell_type": "code",
   "execution_count": 106,
   "metadata": {},
   "outputs": [],
   "source": [
    "df0 = pd.read_csv('Star_Wars_Characters.csv', encoding='utf-8')\n",
    "df = df0.copy()"
   ]
  },
  {
   "cell_type": "code",
   "execution_count": 107,
   "metadata": {
    "colab": {
     "base_uri": "https://localhost:8080/",
     "height": 203
    },
    "id": "BtAf43Va20Iq",
    "outputId": "5e76994f-847a-4efd-c3db-8c2bb994a7d5",
    "scrolled": true
   },
   "outputs": [
    {
     "data": {
      "text/html": [
       "<div>\n",
       "<style scoped>\n",
       "    .dataframe tbody tr th:only-of-type {\n",
       "        vertical-align: middle;\n",
       "    }\n",
       "\n",
       "    .dataframe tbody tr th {\n",
       "        vertical-align: top;\n",
       "    }\n",
       "\n",
       "    .dataframe thead th {\n",
       "        text-align: right;\n",
       "    }\n",
       "</style>\n",
       "<table border=\"1\" class=\"dataframe\">\n",
       "  <thead>\n",
       "    <tr style=\"text-align: right;\">\n",
       "      <th></th>\n",
       "      <th>name</th>\n",
       "      <th>height</th>\n",
       "      <th>mass</th>\n",
       "      <th>hair_color</th>\n",
       "      <th>skin_color</th>\n",
       "      <th>eye_color</th>\n",
       "      <th>birth_year</th>\n",
       "      <th>gender</th>\n",
       "      <th>homeworld</th>\n",
       "      <th>species</th>\n",
       "    </tr>\n",
       "  </thead>\n",
       "  <tbody>\n",
       "    <tr>\n",
       "      <th>0</th>\n",
       "      <td>Luke Skywalker</td>\n",
       "      <td>172.0</td>\n",
       "      <td>77</td>\n",
       "      <td>blond</td>\n",
       "      <td>fair</td>\n",
       "      <td>blue</td>\n",
       "      <td>19BBY</td>\n",
       "      <td>male</td>\n",
       "      <td>Tatooine</td>\n",
       "      <td>Human</td>\n",
       "    </tr>\n",
       "    <tr>\n",
       "      <th>1</th>\n",
       "      <td>C-3PO</td>\n",
       "      <td>167.0</td>\n",
       "      <td>75</td>\n",
       "      <td>no hair</td>\n",
       "      <td>gold</td>\n",
       "      <td>yellow</td>\n",
       "      <td>112BBY</td>\n",
       "      <td>no gender</td>\n",
       "      <td>Tatooine</td>\n",
       "      <td>Droid</td>\n",
       "    </tr>\n",
       "    <tr>\n",
       "      <th>2</th>\n",
       "      <td>R2-D2</td>\n",
       "      <td>96.0</td>\n",
       "      <td>32</td>\n",
       "      <td>no hair</td>\n",
       "      <td>white, blue</td>\n",
       "      <td>red</td>\n",
       "      <td>33BBY</td>\n",
       "      <td>no gender</td>\n",
       "      <td>Naboo</td>\n",
       "      <td>Droid</td>\n",
       "    </tr>\n",
       "    <tr>\n",
       "      <th>3</th>\n",
       "      <td>Darth Vader</td>\n",
       "      <td>202.0</td>\n",
       "      <td>136</td>\n",
       "      <td>none</td>\n",
       "      <td>white</td>\n",
       "      <td>yellow</td>\n",
       "      <td>41.9BBY</td>\n",
       "      <td>male</td>\n",
       "      <td>Tatooine</td>\n",
       "      <td>Human</td>\n",
       "    </tr>\n",
       "    <tr>\n",
       "      <th>4</th>\n",
       "      <td>Leia Organa</td>\n",
       "      <td>150.0</td>\n",
       "      <td>49</td>\n",
       "      <td>brown</td>\n",
       "      <td>light</td>\n",
       "      <td>brown</td>\n",
       "      <td>19BBY</td>\n",
       "      <td>female</td>\n",
       "      <td>Alderaan</td>\n",
       "      <td>Human</td>\n",
       "    </tr>\n",
       "    <tr>\n",
       "      <th>...</th>\n",
       "      <td>...</td>\n",
       "      <td>...</td>\n",
       "      <td>...</td>\n",
       "      <td>...</td>\n",
       "      <td>...</td>\n",
       "      <td>...</td>\n",
       "      <td>...</td>\n",
       "      <td>...</td>\n",
       "      <td>...</td>\n",
       "      <td>...</td>\n",
       "    </tr>\n",
       "    <tr>\n",
       "      <th>82</th>\n",
       "      <td>Rey</td>\n",
       "      <td>NaN</td>\n",
       "      <td>NaN</td>\n",
       "      <td>brown</td>\n",
       "      <td>light</td>\n",
       "      <td>hazel</td>\n",
       "      <td>NaN</td>\n",
       "      <td>female</td>\n",
       "      <td>NaN</td>\n",
       "      <td>Human</td>\n",
       "    </tr>\n",
       "    <tr>\n",
       "      <th>83</th>\n",
       "      <td>Poe Dameron</td>\n",
       "      <td>NaN</td>\n",
       "      <td>NaN</td>\n",
       "      <td>brown</td>\n",
       "      <td>light</td>\n",
       "      <td>brown</td>\n",
       "      <td>NaN</td>\n",
       "      <td>male</td>\n",
       "      <td>NaN</td>\n",
       "      <td>Human</td>\n",
       "    </tr>\n",
       "    <tr>\n",
       "      <th>84</th>\n",
       "      <td>BB8</td>\n",
       "      <td>NaN</td>\n",
       "      <td>NaN</td>\n",
       "      <td>no hair</td>\n",
       "      <td>none</td>\n",
       "      <td>black</td>\n",
       "      <td>NaN</td>\n",
       "      <td>none</td>\n",
       "      <td>NaN</td>\n",
       "      <td>Droid</td>\n",
       "    </tr>\n",
       "    <tr>\n",
       "      <th>85</th>\n",
       "      <td>Captain Phasma</td>\n",
       "      <td>NaN</td>\n",
       "      <td>NaN</td>\n",
       "      <td>none</td>\n",
       "      <td>NaN</td>\n",
       "      <td>NaN</td>\n",
       "      <td>NaN</td>\n",
       "      <td>female</td>\n",
       "      <td>NaN</td>\n",
       "      <td>NaN</td>\n",
       "    </tr>\n",
       "    <tr>\n",
       "      <th>86</th>\n",
       "      <td>PadmÃ© Amidala</td>\n",
       "      <td>165.0</td>\n",
       "      <td>45</td>\n",
       "      <td>brown</td>\n",
       "      <td>light</td>\n",
       "      <td>brown</td>\n",
       "      <td>46BBY</td>\n",
       "      <td>female</td>\n",
       "      <td>Naboo</td>\n",
       "      <td>Human</td>\n",
       "    </tr>\n",
       "  </tbody>\n",
       "</table>\n",
       "<p>87 rows × 10 columns</p>\n",
       "</div>"
      ],
      "text/plain": [
       "              name  height mass hair_color   skin_color eye_color birth_year  \\\n",
       "0   Luke Skywalker   172.0   77      blond         fair      blue      19BBY   \n",
       "1            C-3PO   167.0   75    no hair         gold    yellow     112BBY   \n",
       "2            R2-D2    96.0   32    no hair  white, blue       red      33BBY   \n",
       "3      Darth Vader   202.0  136       none        white    yellow    41.9BBY   \n",
       "4      Leia Organa   150.0   49      brown        light     brown      19BBY   \n",
       "..             ...     ...  ...        ...          ...       ...        ...   \n",
       "82             Rey     NaN  NaN      brown        light     hazel        NaN   \n",
       "83     Poe Dameron     NaN  NaN      brown        light     brown        NaN   \n",
       "84             BB8     NaN  NaN    no hair         none     black        NaN   \n",
       "85  Captain Phasma     NaN  NaN       none          NaN       NaN        NaN   \n",
       "86  PadmÃ© Amidala   165.0   45      brown        light     brown      46BBY   \n",
       "\n",
       "       gender homeworld species  \n",
       "0        male  Tatooine   Human  \n",
       "1   no gender  Tatooine   Droid  \n",
       "2   no gender     Naboo   Droid  \n",
       "3        male  Tatooine   Human  \n",
       "4      female  Alderaan   Human  \n",
       "..        ...       ...     ...  \n",
       "82     female       NaN   Human  \n",
       "83       male       NaN   Human  \n",
       "84       none       NaN   Droid  \n",
       "85     female       NaN     NaN  \n",
       "86     female     Naboo   Human  \n",
       "\n",
       "[87 rows x 10 columns]"
      ]
     },
     "execution_count": 107,
     "metadata": {},
     "output_type": "execute_result"
    }
   ],
   "source": [
    "df"
   ]
  },
  {
   "cell_type": "markdown",
   "metadata": {},
   "source": [
    "Always take a note of your dataset, and choose encoding accordingly, or else you might not be able to properly decode dataset into a Pandas DataFrame. Few of the common options include \"utf-8\", \"utf-16\", \"latin-1\", \"iso-8859-1\", \"iso-8859-15\" & \"cp1252\". Also ensure to mention complete PATH to your dataset, if it isn't in the same local directory as your IDE (Jupyter Notebook, for instance). If unaware of the PATH, run %pwd in an Input cell of Jupyter Notebook to fetch that information. For more detailed know-how on Jupyter Notebook, please refer to the [article](https://medium.com/@neuralnets/beginners-quick-guide-for-handling-issues-launching-jupyter-notebook-for-python-using-anaconda-8be3d57a209b) focusing entirely on that subject.<br>\n",
    "\n",
    "**Pandas read_csv() tricks you should know to speed up your data analysis**<br>\n",
    "[\"SOURCE 1](https://towardsdatascience.com/all-the-pandas-read-csv-you-should-know-to-speed-up-your-data-analysis-1e16fe1039f3)<br>\n",
    "[\"SOURCE 2](https://python.plainenglish.io/reading-data-with-pythons-pandas-2715ff925b1d)<br>\n",
    "[\"SOURCE 3](https://www.shanelynn.ie/python-pandas-read-csv-load-data-from-csv-files/)<br>\n",
    "[\"SOURCE 4](http://net-informations.com/ds/pda/csv.htm)<br>\n",
    "[\"SOURCE 5](https://blog.finxter.com/how-to-fix-unicodedecodeerror-when-reading-csv-file-in-pandas-with-python/)<br>\n",
    "\n",
    "\n",
    "**the most viable formats in which files tend to be encoded are mostly either of these:**\n",
    "- encoding=\"utf8\"\n",
    "- encoding=\"utf16\"\n",
    "- encoding=\"windows-1251\"\n",
    "- encoding=\"windows-1252\"\n",
    "- encoding='latin1' (also known as ISO-885901)\n",
    "- encoding='iso-8859-1' or \n",
    "- encoding='cp1252'"
   ]
  },
  {
   "cell_type": "markdown",
   "metadata": {},
   "source": [
    "Moving on, just the way we looked into built-in datasets in the Seaborn library, let us know have a preview of this dataset as well. **However, we won’t be getting into deep analysis of this dataset because our agenda in this assignmnet is only to visualize the content within & gradually discover the statistical reference.** So, let’s do this:"
   ]
  },
  {
   "cell_type": "code",
   "execution_count": 108,
   "metadata": {},
   "outputs": [
    {
     "data": {
      "text/plain": [
       "(87, 10)"
      ]
     },
     "execution_count": 108,
     "metadata": {},
     "output_type": "execute_result"
    }
   ],
   "source": [
    "df.shape"
   ]
  },
  {
   "cell_type": "code",
   "execution_count": 109,
   "metadata": {
    "scrolled": true
   },
   "outputs": [
    {
     "data": {
      "text/plain": [
       "870"
      ]
     },
     "execution_count": 109,
     "metadata": {},
     "output_type": "execute_result"
    }
   ],
   "source": [
    "df.size"
   ]
  },
  {
   "cell_type": "code",
   "execution_count": 110,
   "metadata": {},
   "outputs": [
    {
     "name": "stdout",
     "output_type": "stream",
     "text": [
      "<class 'pandas.core.frame.DataFrame'>\n",
      "RangeIndex: 87 entries, 0 to 86\n",
      "Data columns (total 10 columns):\n",
      " #   Column      Non-Null Count  Dtype  \n",
      "---  ------      --------------  -----  \n",
      " 0   name        87 non-null     object \n",
      " 1   height      81 non-null     float64\n",
      " 2   mass        59 non-null     object \n",
      " 3   hair_color  87 non-null     object \n",
      " 4   skin_color  85 non-null     object \n",
      " 5   eye_color   84 non-null     object \n",
      " 6   birth_year  43 non-null     object \n",
      " 7   gender      87 non-null     object \n",
      " 8   homeworld   77 non-null     object \n",
      " 9   species     82 non-null     object \n",
      "dtypes: float64(1), object(9)\n",
      "memory usage: 6.9+ KB\n"
     ]
    }
   ],
   "source": [
    "df.info()"
   ]
  },
  {
   "cell_type": "code",
   "execution_count": 111,
   "metadata": {
    "scrolled": true
   },
   "outputs": [
    {
     "data": {
      "text/html": [
       "<div>\n",
       "<style scoped>\n",
       "    .dataframe tbody tr th:only-of-type {\n",
       "        vertical-align: middle;\n",
       "    }\n",
       "\n",
       "    .dataframe tbody tr th {\n",
       "        vertical-align: top;\n",
       "    }\n",
       "\n",
       "    .dataframe thead th {\n",
       "        text-align: right;\n",
       "    }\n",
       "</style>\n",
       "<table border=\"1\" class=\"dataframe\">\n",
       "  <thead>\n",
       "    <tr style=\"text-align: right;\">\n",
       "      <th></th>\n",
       "      <th>count</th>\n",
       "      <th>mean</th>\n",
       "      <th>std</th>\n",
       "      <th>min</th>\n",
       "      <th>25%</th>\n",
       "      <th>50%</th>\n",
       "      <th>75%</th>\n",
       "      <th>max</th>\n",
       "    </tr>\n",
       "  </thead>\n",
       "  <tbody>\n",
       "    <tr>\n",
       "      <th>height</th>\n",
       "      <td>81.0</td>\n",
       "      <td>174.358025</td>\n",
       "      <td>34.770429</td>\n",
       "      <td>66.0</td>\n",
       "      <td>167.0</td>\n",
       "      <td>180.0</td>\n",
       "      <td>191.0</td>\n",
       "      <td>264.0</td>\n",
       "    </tr>\n",
       "  </tbody>\n",
       "</table>\n",
       "</div>"
      ],
      "text/plain": [
       "        count        mean        std   min    25%    50%    75%    max\n",
       "height   81.0  174.358025  34.770429  66.0  167.0  180.0  191.0  264.0"
      ]
     },
     "execution_count": 111,
     "metadata": {},
     "output_type": "execute_result"
    }
   ],
   "source": [
    "df.describe().T"
   ]
  },
  {
   "cell_type": "markdown",
   "metadata": {},
   "source": [
    "## <p style=\"background-color:#9d4f8c; font-family:newtimeroman; color:#FFF9ED; font-size:150%; text-align:center; border-radius:10px 10px;\">\"Task_1 Plotting the Star Wars Characters by gender</p>\n",
    "\n",
    "<a id=\"2\"></a>\n",
    "<a href=\"#toc\" class=\"btn btn-primary btn-sm\" role=\"button\" aria-pressed=\"true\" \n",
    "style=\"color:blue; background-color:#dfa8e4\" data-toggle=\"popover\">Content</a>"
   ]
  },
  {
   "cell_type": "code",
   "execution_count": 112,
   "metadata": {},
   "outputs": [
    {
     "data": {
      "text/plain": [
       "0          male\n",
       "1     no gender\n",
       "2     no gender\n",
       "3          male\n",
       "4        female\n",
       "        ...    \n",
       "82       female\n",
       "83         male\n",
       "84         none\n",
       "85       female\n",
       "86       female\n",
       "Name: gender, Length: 87, dtype: object"
      ]
     },
     "execution_count": 112,
     "metadata": {},
     "output_type": "execute_result"
    }
   ],
   "source": [
    "df.gender\n"
   ]
  },
  {
   "cell_type": "code",
   "execution_count": 113,
   "metadata": {
    "scrolled": true
   },
   "outputs": [
    {
     "data": {
      "text/plain": [
       "gender\n",
       "male             62\n",
       "female           19\n",
       "no gender         3\n",
       "none              2\n",
       "hermaphrodite     1\n",
       "Name: count, dtype: int64"
      ]
     },
     "execution_count": 113,
     "metadata": {},
     "output_type": "execute_result"
    }
   ],
   "source": [
    "gender = df.gender.value_counts()\n",
    "\n",
    "gender\n"
   ]
  },
  {
   "cell_type": "code",
   "execution_count": 114,
   "metadata": {},
   "outputs": [
    {
     "data": {
      "image/png": "[encoded data removed]",
      "text/plain": [
       "<Figure size 640x480 with 1 Axes>"
      ]
     },
     "metadata": {},
     "output_type": "display_data"
    }
   ],
   "source": [
    "# with matplotlib\n",
    "\n",
    "plt.bar(gender.index, gender.values)\n",
    "\n",
    "plt.title('Starwars Characters by Gender')\n",
    "plt.xlabel('Genders')\n",
    "plt.ylabel('No. of Characters')\n",
    "\n",
    "plt.show()"
   ]
  },
  {
   "cell_type": "code",
   "execution_count": 115,
   "metadata": {
    "scrolled": true
   },
   "outputs": [
    {
     "data": {
      "text/plain": [
       "gender\n",
       "male             62\n",
       "female           19\n",
       "no gender         3\n",
       "none              2\n",
       "hermaphrodite     1\n",
       "Name: count, dtype: int64"
      ]
     },
     "execution_count": 115,
     "metadata": {},
     "output_type": "execute_result"
    }
   ],
   "source": [
    "df.gender.value_counts()"
   ]
  },
  {
   "cell_type": "code",
   "execution_count": 116,
   "metadata": {},
   "outputs": [
    {
     "data": {
      "text/plain": [
       "<Axes: xlabel='gender'>"
      ]
     },
     "execution_count": 116,
     "metadata": {},
     "output_type": "execute_result"
    },
    {
     "data": {
      "image/png": "[encoded data removed]",
      "text/plain": [
       "<Figure size 640x480 with 1 Axes>"
      ]
     },
     "metadata": {},
     "output_type": "display_data"
    }
   ],
   "source": [
    "# with pandas\n",
    "gender.plot.bar()"
   ]
  },
  {
   "cell_type": "code",
   "execution_count": null,
   "metadata": {},
   "outputs": [],
   "source": []
  },
  {
   "cell_type": "markdown",
   "metadata": {},
   "source": [
    "## <p style=\"background-color:#9d4f8c; font-family:newtimeroman; color:#FFF9ED; font-size:150%; text-align:center; border-radius:10px 10px;\">TASK_2 Plotting the Characters by eye color</p>\n",
    " \n",
    "<a id=\"3\"></a>\n",
    "<a href=\"#toc\" class=\"btn btn-primary btn-sm\" role=\"button\" aria-pressed=\"true\" \n",
    "style=\"color:blue; background-color:#dfa8e4\" data-toggle=\"popover\">Content</a>"
   ]
  },
  {
   "cell_type": "code",
   "execution_count": 117,
   "metadata": {},
   "outputs": [
    {
     "data": {
      "image/png": "[encoded data removed]",
      "text/plain": [
       "<Figure size 1500x600 with 1 Axes>"
      ]
     },
     "metadata": {},
     "output_type": "display_data"
    }
   ],
   "source": [
    "# with matplotlib\n",
    "\n",
    "eye_colours = df.eye_color.value_counts()\n",
    "\n",
    "\n",
    "plt.figure(figsize=(15, 6))\n",
    "\n",
    "plt.bar(eye_colours.index,eye_colours.values)\n",
    "\n",
    "plt.title('Starwars Characters by Eye Colour')\n",
    "plt.xlabel('Eye Colours')\n",
    "plt.ylabel('No. of Characters')\n",
    "\n",
    "\n",
    "plt.show()"
   ]
  },
  {
   "cell_type": "code",
   "execution_count": null,
   "metadata": {},
   "outputs": [],
   "source": []
  },
  {
   "cell_type": "code",
   "execution_count": 118,
   "metadata": {},
   "outputs": [
    {
     "data": {
      "image/png": "[encoded data removed]",
      "text/plain": [
       "<Figure size 640x480 with 1 Axes>"
      ]
     },
     "metadata": {},
     "output_type": "display_data"
    }
   ],
   "source": [
    "# with pandas\n",
    "eye_colours.plot.bar();"
   ]
  },
  {
   "cell_type": "code",
   "execution_count": null,
   "metadata": {
    "scrolled": false
   },
   "outputs": [],
   "source": []
  },
  {
   "cell_type": "markdown",
   "metadata": {},
   "source": [
    "## <p style=\"background-color:#9d4f8c; font-family:newtimeroman; color:#FFF9ED; font-size:150%; text-align:center; border-radius:10px 10px;\">TASK_3 - Plotting the MASS unde 3 groups: \"High_mass\", \"Normal_mass\", \"Low_mass\" </p>\n",
    "\n",
    "<a id=\"4\"></a>\n",
    "<a href=\"#toc\" class=\"btn btn-primary btn-sm\" role=\"button\" aria-pressed=\"true\" \n",
    "style=\"color:blue; background-color:#dfa8e4\" data-toggle=\"popover\">Content</a>"
   ]
  },
  {
   "cell_type": "raw",
   "metadata": {
    "vscode": {
     "languageId": "raw"
    }
   },
   "source": [
    "Note:\n",
    "\"High_mass    >=100.0\n",
    "\"Normal_mass  >50.0  <100.0\n",
    "\"Low_mass     <=50"
   ]
  },
  {
   "cell_type": "code",
   "execution_count": 119,
   "metadata": {},
   "outputs": [
    {
     "data": {
      "text/plain": [
       "0      77.0\n",
       "1      75.0\n",
       "2      32.0\n",
       "3     136.0\n",
       "4      49.0\n",
       "      ...  \n",
       "82      NaN\n",
       "83      NaN\n",
       "84      NaN\n",
       "85      NaN\n",
       "86     45.0\n",
       "Name: mass, Length: 87, dtype: float64"
      ]
     },
     "execution_count": 119,
     "metadata": {},
     "output_type": "execute_result"
    }
   ],
   "source": [
    "mass = df.mass\n",
    "\n",
    "# mass.value_counts()\n",
    "# df.mass.sort_values()\n",
    "\n",
    "# Convert all df['mass'] into float\n",
    "df['mass'] = pd.to_numeric(df['mass'], errors='coerce')\n",
    "\n",
    "# See converted data\n",
    "df['mass']"
   ]
  },
  {
   "cell_type": "code",
   "execution_count": 120,
   "metadata": {},
   "outputs": [
    {
     "name": "stdout",
     "output_type": "stream",
     "text": [
      "<class 'pandas.core.series.Series'>\n",
      "RangeIndex: 87 entries, 0 to 86\n",
      "Series name: mass\n",
      "Non-Null Count  Dtype \n",
      "--------------  ----- \n",
      "59 non-null     object\n",
      "dtypes: object(1)\n",
      "memory usage: 828.0+ bytes\n"
     ]
    }
   ],
   "source": [
    "mass.info()"
   ]
  },
  {
   "cell_type": "code",
   "execution_count": 151,
   "metadata": {
    "scrolled": true
   },
   "outputs": [],
   "source": [
    "# Assign categories to data\n",
    "\n",
    "High_mass = df.loc[df['mass'] >= 100, ['mass']]\n",
    "Normal_mass = df.loc[(df['mass'] > 50) & (df['mass'] < 100),['mass']]\n",
    "Low_mass = df.loc[df['mass'] <= 50,['mass']]"
   ]
  },
  {
   "cell_type": "code",
   "execution_count": 152,
   "metadata": {},
   "outputs": [
    {
     "data": {
      "text/html": [
       "<div>\n",
       "<style scoped>\n",
       "    .dataframe tbody tr th:only-of-type {\n",
       "        vertical-align: middle;\n",
       "    }\n",
       "\n",
       "    .dataframe tbody tr th {\n",
       "        vertical-align: top;\n",
       "    }\n",
       "\n",
       "    .dataframe thead th {\n",
       "        text-align: right;\n",
       "    }\n",
       "</style>\n",
       "<table border=\"1\" class=\"dataframe\">\n",
       "  <thead>\n",
       "    <tr style=\"text-align: right;\">\n",
       "      <th></th>\n",
       "      <th>mass</th>\n",
       "    </tr>\n",
       "  </thead>\n",
       "  <tbody>\n",
       "    <tr>\n",
       "      <th>3</th>\n",
       "      <td>136.0</td>\n",
       "    </tr>\n",
       "    <tr>\n",
       "      <th>5</th>\n",
       "      <td>120.0</td>\n",
       "    </tr>\n",
       "    <tr>\n",
       "      <th>12</th>\n",
       "      <td>112.0</td>\n",
       "    </tr>\n",
       "    <tr>\n",
       "      <th>17</th>\n",
       "      <td>110.0</td>\n",
       "    </tr>\n",
       "    <tr>\n",
       "      <th>21</th>\n",
       "      <td>140.0</td>\n",
       "    </tr>\n",
       "    <tr>\n",
       "      <th>22</th>\n",
       "      <td>113.0</td>\n",
       "    </tr>\n",
       "    <tr>\n",
       "      <th>67</th>\n",
       "      <td>102.0</td>\n",
       "    </tr>\n",
       "    <tr>\n",
       "      <th>76</th>\n",
       "      <td>159.0</td>\n",
       "    </tr>\n",
       "    <tr>\n",
       "      <th>77</th>\n",
       "      <td>136.0</td>\n",
       "    </tr>\n",
       "  </tbody>\n",
       "</table>\n",
       "</div>"
      ],
      "text/plain": [
       "     mass\n",
       "3   136.0\n",
       "5   120.0\n",
       "12  112.0\n",
       "17  110.0\n",
       "21  140.0\n",
       "22  113.0\n",
       "67  102.0\n",
       "76  159.0\n",
       "77  136.0"
      ]
     },
     "metadata": {},
     "output_type": "display_data"
    }
   ],
   "source": [
    "display(High_mass)"
   ]
  },
  {
   "cell_type": "code",
   "execution_count": 142,
   "metadata": {},
   "outputs": [
    {
     "data": {
      "text/html": [
       "<div>\n",
       "<style scoped>\n",
       "    .dataframe tbody tr th:only-of-type {\n",
       "        vertical-align: middle;\n",
       "    }\n",
       "\n",
       "    .dataframe tbody tr th {\n",
       "        vertical-align: top;\n",
       "    }\n",
       "\n",
       "    .dataframe thead th {\n",
       "        text-align: right;\n",
       "    }\n",
       "</style>\n",
       "<table border=\"1\" class=\"dataframe\">\n",
       "  <thead>\n",
       "    <tr style=\"text-align: right;\">\n",
       "      <th></th>\n",
       "      <th>mass</th>\n",
       "    </tr>\n",
       "  </thead>\n",
       "  <tbody>\n",
       "    <tr>\n",
       "      <th>0</th>\n",
       "      <td>77.0</td>\n",
       "    </tr>\n",
       "    <tr>\n",
       "      <th>1</th>\n",
       "      <td>75.0</td>\n",
       "    </tr>\n",
       "    <tr>\n",
       "      <th>6</th>\n",
       "      <td>75.0</td>\n",
       "    </tr>\n",
       "    <tr>\n",
       "      <th>8</th>\n",
       "      <td>84.0</td>\n",
       "    </tr>\n",
       "    <tr>\n",
       "      <th>9</th>\n",
       "      <td>77.0</td>\n",
       "    </tr>\n",
       "    <tr>\n",
       "      <th>10</th>\n",
       "      <td>84.0</td>\n",
       "    </tr>\n",
       "    <tr>\n",
       "      <th>13</th>\n",
       "      <td>80.0</td>\n",
       "    </tr>\n",
       "    <tr>\n",
       "      <th>14</th>\n",
       "      <td>74.0</td>\n",
       "    </tr>\n",
       "    <tr>\n",
       "      <th>16</th>\n",
       "      <td>77.0</td>\n",
       "    </tr>\n",
       "    <tr>\n",
       "      <th>19</th>\n",
       "      <td>75.0</td>\n",
       "    </tr>\n",
       "    <tr>\n",
       "      <th>20</th>\n",
       "      <td>78.2</td>\n",
       "    </tr>\n",
       "    <tr>\n",
       "      <th>23</th>\n",
       "      <td>79.0</td>\n",
       "    </tr>\n",
       "    <tr>\n",
       "      <th>24</th>\n",
       "      <td>79.0</td>\n",
       "    </tr>\n",
       "    <tr>\n",
       "      <th>25</th>\n",
       "      <td>83.0</td>\n",
       "    </tr>\n",
       "    <tr>\n",
       "      <th>29</th>\n",
       "      <td>68.0</td>\n",
       "    </tr>\n",
       "    <tr>\n",
       "      <th>30</th>\n",
       "      <td>89.0</td>\n",
       "    </tr>\n",
       "    <tr>\n",
       "      <th>31</th>\n",
       "      <td>90.0</td>\n",
       "    </tr>\n",
       "    <tr>\n",
       "      <th>33</th>\n",
       "      <td>66.0</td>\n",
       "    </tr>\n",
       "    <tr>\n",
       "      <th>34</th>\n",
       "      <td>82.0</td>\n",
       "    </tr>\n",
       "    <tr>\n",
       "      <th>41</th>\n",
       "      <td>80.0</td>\n",
       "    </tr>\n",
       "    <tr>\n",
       "      <th>43</th>\n",
       "      <td>55.0</td>\n",
       "    </tr>\n",
       "    <tr>\n",
       "      <th>46</th>\n",
       "      <td>65.0</td>\n",
       "    </tr>\n",
       "    <tr>\n",
       "      <th>47</th>\n",
       "      <td>84.0</td>\n",
       "    </tr>\n",
       "    <tr>\n",
       "      <th>48</th>\n",
       "      <td>82.0</td>\n",
       "    </tr>\n",
       "    <tr>\n",
       "      <th>49</th>\n",
       "      <td>87.0</td>\n",
       "    </tr>\n",
       "    <tr>\n",
       "      <th>54</th>\n",
       "      <td>80.0</td>\n",
       "    </tr>\n",
       "    <tr>\n",
       "      <th>56</th>\n",
       "      <td>85.0</td>\n",
       "    </tr>\n",
       "    <tr>\n",
       "      <th>59</th>\n",
       "      <td>80.0</td>\n",
       "    </tr>\n",
       "    <tr>\n",
       "      <th>60</th>\n",
       "      <td>56.2</td>\n",
       "    </tr>\n",
       "    <tr>\n",
       "      <th>63</th>\n",
       "      <td>80.0</td>\n",
       "    </tr>\n",
       "    <tr>\n",
       "      <th>65</th>\n",
       "      <td>79.0</td>\n",
       "    </tr>\n",
       "    <tr>\n",
       "      <th>66</th>\n",
       "      <td>55.0</td>\n",
       "    </tr>\n",
       "    <tr>\n",
       "      <th>68</th>\n",
       "      <td>88.0</td>\n",
       "    </tr>\n",
       "    <tr>\n",
       "      <th>75</th>\n",
       "      <td>57.0</td>\n",
       "    </tr>\n",
       "    <tr>\n",
       "      <th>78</th>\n",
       "      <td>79.0</td>\n",
       "    </tr>\n",
       "    <tr>\n",
       "      <th>80</th>\n",
       "      <td>80.0</td>\n",
       "    </tr>\n",
       "  </tbody>\n",
       "</table>\n",
       "</div>"
      ],
      "text/plain": [
       "    mass\n",
       "0   77.0\n",
       "1   75.0\n",
       "6   75.0\n",
       "8   84.0\n",
       "9   77.0\n",
       "10  84.0\n",
       "13  80.0\n",
       "14  74.0\n",
       "16  77.0\n",
       "19  75.0\n",
       "20  78.2\n",
       "23  79.0\n",
       "24  79.0\n",
       "25  83.0\n",
       "29  68.0\n",
       "30  89.0\n",
       "31  90.0\n",
       "33  66.0\n",
       "34  82.0\n",
       "41  80.0\n",
       "43  55.0\n",
       "46  65.0\n",
       "47  84.0\n",
       "48  82.0\n",
       "49  87.0\n",
       "54  80.0\n",
       "56  85.0\n",
       "59  80.0\n",
       "60  56.2\n",
       "63  80.0\n",
       "65  79.0\n",
       "66  55.0\n",
       "68  88.0\n",
       "75  57.0\n",
       "78  79.0\n",
       "80  80.0"
      ]
     },
     "metadata": {},
     "output_type": "display_data"
    }
   ],
   "source": [
    "display(Normal_mass)"
   ]
  },
  {
   "cell_type": "code",
   "execution_count": 143,
   "metadata": {},
   "outputs": [
    {
     "data": {
      "text/html": [
       "<div>\n",
       "<style scoped>\n",
       "    .dataframe tbody tr th:only-of-type {\n",
       "        vertical-align: middle;\n",
       "    }\n",
       "\n",
       "    .dataframe tbody tr th {\n",
       "        vertical-align: top;\n",
       "    }\n",
       "\n",
       "    .dataframe thead th {\n",
       "        text-align: right;\n",
       "    }\n",
       "</style>\n",
       "<table border=\"1\" class=\"dataframe\">\n",
       "  <thead>\n",
       "    <tr style=\"text-align: right;\">\n",
       "      <th></th>\n",
       "      <th>mass</th>\n",
       "    </tr>\n",
       "  </thead>\n",
       "  <tbody>\n",
       "    <tr>\n",
       "      <th>2</th>\n",
       "      <td>32.0</td>\n",
       "    </tr>\n",
       "    <tr>\n",
       "      <th>4</th>\n",
       "      <td>49.0</td>\n",
       "    </tr>\n",
       "    <tr>\n",
       "      <th>7</th>\n",
       "      <td>32.0</td>\n",
       "    </tr>\n",
       "    <tr>\n",
       "      <th>18</th>\n",
       "      <td>17.0</td>\n",
       "    </tr>\n",
       "    <tr>\n",
       "      <th>28</th>\n",
       "      <td>20.0</td>\n",
       "    </tr>\n",
       "    <tr>\n",
       "      <th>38</th>\n",
       "      <td>40.0</td>\n",
       "    </tr>\n",
       "    <tr>\n",
       "      <th>44</th>\n",
       "      <td>45.0</td>\n",
       "    </tr>\n",
       "    <tr>\n",
       "      <th>51</th>\n",
       "      <td>50.0</td>\n",
       "    </tr>\n",
       "    <tr>\n",
       "      <th>61</th>\n",
       "      <td>50.0</td>\n",
       "    </tr>\n",
       "    <tr>\n",
       "      <th>71</th>\n",
       "      <td>15.0</td>\n",
       "    </tr>\n",
       "    <tr>\n",
       "      <th>73</th>\n",
       "      <td>48.0</td>\n",
       "    </tr>\n",
       "    <tr>\n",
       "      <th>79</th>\n",
       "      <td>48.0</td>\n",
       "    </tr>\n",
       "    <tr>\n",
       "      <th>86</th>\n",
       "      <td>45.0</td>\n",
       "    </tr>\n",
       "  </tbody>\n",
       "</table>\n",
       "</div>"
      ],
      "text/plain": [
       "    mass\n",
       "2   32.0\n",
       "4   49.0\n",
       "7   32.0\n",
       "18  17.0\n",
       "28  20.0\n",
       "38  40.0\n",
       "44  45.0\n",
       "51  50.0\n",
       "61  50.0\n",
       "71  15.0\n",
       "73  48.0\n",
       "79  48.0\n",
       "86  45.0"
      ]
     },
     "metadata": {},
     "output_type": "display_data"
    }
   ],
   "source": [
    "display(Low_mass)"
   ]
  },
  {
   "cell_type": "code",
   "execution_count": null,
   "metadata": {},
   "outputs": [],
   "source": [
    "# Function to categorise mass\n",
    "def categorise_mass(x):\n",
    "    if x >= 100:\n",
    "        return 'High Mass'\n",
    "    elif x > 50 and x < 100:\n",
    "        return 'Normal Mass'\n",
    "    elif x <= 50:\n",
    "        return 'Low Mass'\n",
    "    else:\n",
    "        return np.nan"
   ]
  },
  {
   "cell_type": "code",
   "execution_count": null,
   "metadata": {},
   "outputs": [],
   "source": [
    "# Apply categorise_mass for 'mass' col + put result in 'mass_cat' col\n",
    "df[\"mass_cat\"] = df['mass'].apply(categorise_mass)\n",
    "\n",
    "# Count values in 'mass_cat'\n",
    "mass_cat_chart = df['mass_cat'].value_counts(dropna=False)"
   ]
  },
  {
   "cell_type": "code",
   "execution_count": null,
   "metadata": {},
   "outputs": [
    {
     "data": {
      "image/png": "[encoded data removed]",
      "text/plain": [
       "<Figure size 640x480 with 1 Axes>"
      ]
     },
     "metadata": {},
     "output_type": "display_data"
    }
   ],
   "source": [
    "# with pandas\n",
    "\n",
    "mass_cat_chart.plot.pie();\n",
    "# mass_cat_chart.plot.bar();"
   ]
  },
  {
   "cell_type": "code",
   "execution_count": null,
   "metadata": {
    "scrolled": true
   },
   "outputs": [
    {
     "data": {
      "text/plain": [
       "Index(['Normal Mass', nan, 'Low Mass', 'High Mass'], dtype='object', name='mass_cat')"
      ]
     },
     "execution_count": 184,
     "metadata": {},
     "output_type": "execute_result"
    }
   ],
   "source": [
    "# mass_cat_chart.index"
   ]
  },
  {
   "cell_type": "code",
   "execution_count": 190,
   "metadata": {},
   "outputs": [
    {
     "data": {
      "image/png": "[encoded data removed]",
      "text/plain": [
       "<Figure size 1000x800 with 1 Axes>"
      ]
     },
     "metadata": {},
     "output_type": "display_data"
    }
   ],
   "source": [
    "# with matplotlib\n",
    "\n",
    "plt.figure(figsize=(10,8))\n",
    "plt.title('Starwars Characters by Mass')\n",
    "\n",
    "chart_statfig = mass_cat_chart.values\n",
    "chart_labels = mass_cat_chart.index\n",
    "\n",
    "plt.pie(chart_statfig, labels=chart_labels, autopct= lambda x: f'{round(x,2)}%')\n",
    "plt.legend();"
   ]
  },
  {
   "cell_type": "code",
   "execution_count": null,
   "metadata": {},
   "outputs": [],
   "source": []
  },
  {
   "cell_type": "markdown",
   "metadata": {},
   "source": [
    "## <p style=\"background-color:#9d4f8c; font-family:newtimeroman; color:#FFF9ED; font-size:150%; text-align:center; border-radius:10px 10px;\">TASK_4 - Plotting the species Top 5</p>\n",
    "\n",
    "<a id=\"5\"></a>\n",
    "<a href=\"#toc\" class=\"btn btn-primary btn-sm\" role=\"button\" aria-pressed=\"true\" \n",
    "style=\"color:blue; background-color:#dfa8e4\" data-toggle=\"popover\">Content</a>"
   ]
  },
  {
   "cell_type": "code",
   "execution_count": 218,
   "metadata": {},
   "outputs": [
    {
     "data": {
      "text/plain": [
       "species\n",
       "Human       35\n",
       "Droid        5\n",
       "Gungan       3\n",
       "Mirialan     2\n",
       "Wookiee      2\n",
       "Name: count, dtype: int64"
      ]
     },
     "execution_count": 218,
     "metadata": {},
     "output_type": "execute_result"
    }
   ],
   "source": [
    "species_top5 = df['species'].value_counts().head()\n",
    "\n",
    "species_top5"
   ]
  },
  {
   "cell_type": "code",
   "execution_count": null,
   "metadata": {},
   "outputs": [
    {
     "data": {
      "image/png": "[encoded data removed]",
      "text/plain": [
       "<Figure size 640x480 with 1 Axes>"
      ]
     },
     "metadata": {},
     "output_type": "display_data"
    }
   ],
   "source": [
    "# with pandas\n",
    "\n",
    "species_top5.plot.bar();"
   ]
  },
  {
   "cell_type": "code",
   "execution_count": null,
   "metadata": {},
   "outputs": [
    {
     "data": {
      "text/plain": [
       "species\n",
       "Human             35\n",
       "Droid              5\n",
       "Gungan             3\n",
       "Mirialan           2\n",
       "Wookiee            2\n",
       "Twi'lek            2\n",
       "Kaminoan           2\n",
       "Zabrak             2\n",
       "Quermian           1\n",
       "Kel Dor            1\n",
       "Chagrian           1\n",
       "Geonosian          1\n",
       "Clawdite           1\n",
       "Tholothian         1\n",
       "Besalisk           1\n",
       "Aleena             1\n",
       "Skakoan            1\n",
       "Muun               1\n",
       "Togruta            1\n",
       "Kaleesh            1\n",
       "Iktotchi           1\n",
       "Toong              1\n",
       "Nautolan           1\n",
       "Cerean             1\n",
       "Xexto              1\n",
       "Vulptereen         1\n",
       "Dug                1\n",
       "Toydarian          1\n",
       "Neimodian          1\n",
       "Sullustan          1\n",
       "Ewok               1\n",
       "Mon Calamari       1\n",
       "Trandoshan         1\n",
       "Yoda's species     1\n",
       "Hutt               1\n",
       "Rodian             1\n",
       "Pau'an             1\n",
       "Name: count, dtype: int64"
      ]
     },
     "execution_count": 128,
     "metadata": {},
     "output_type": "execute_result"
    }
   ],
   "source": [
    "df.species.value_counts()"
   ]
  },
  {
   "cell_type": "code",
   "execution_count": 216,
   "metadata": {},
   "outputs": [
    {
     "data": {
      "image/png": "[encoded data removed]",
      "text/plain": [
       "<Figure size 1000x600 with 1 Axes>"
      ]
     },
     "metadata": {},
     "output_type": "display_data"
    }
   ],
   "source": [
    "# with matplotlib\n",
    "plt.figure(figsize=(10,6))\n",
    "\n",
    "plt.title('Top 5 Species')\n",
    "plt.xlabel('Species')\n",
    "plt.ylabel('Count')\n",
    "\n",
    "chart_labels = species_top5.index\n",
    "chart_statfig = species_top5.values\n",
    "\n",
    "plt.bar(chart_labels, chart_statfig);"
   ]
  },
  {
   "cell_type": "code",
   "execution_count": null,
   "metadata": {},
   "outputs": [],
   "source": []
  },
  {
   "cell_type": "markdown",
   "metadata": {},
   "source": [
    "## <p style=\"background-color:#9d4f8c; font-family:newtimeroman; color:#FFF9ED; font-size:150%; text-align:center; border-radius:10px 10px;\">TASK_5 - Plotting the Characters by aged > 100 years with names</p>\n",
    "\n",
    "<a id=\"6\"></a>\n",
    "<a href=\"#toc\" class=\"btn btn-primary btn-sm\" role=\"button\" aria-pressed=\"true\" \n",
    "style=\"color:blue; background-color:#dfa8e4\" data-toggle=\"popover\">Content</a>"
   ]
  },
  {
   "cell_type": "markdown",
   "metadata": {},
   "source": [
    "#### **Note: Calculate 1 BBY as 1 Year**\n",
    "1 BBY = 1 Year\n"
   ]
  },
  {
   "cell_type": "code",
   "execution_count": 230,
   "metadata": {},
   "outputs": [
    {
     "data": {
      "text/plain": [
       "0      19.0\n",
       "1     112.0\n",
       "2      33.0\n",
       "3     419.0\n",
       "4      19.0\n",
       "      ...  \n",
       "82      NaN\n",
       "83      NaN\n",
       "84      NaN\n",
       "85      NaN\n",
       "86     46.0\n",
       "Name: birth_year, Length: 87, dtype: float64"
      ]
     },
     "execution_count": 230,
     "metadata": {},
     "output_type": "execute_result"
    }
   ],
   "source": [
    "birth_year = df['birth_year']\n",
    "birth_year_filtered = birth_year.replace(r'\\D+','',regex=True)\n",
    "\n",
    "birth_year_num = pd.to_numeric(birth_year_filtered,errors='coerce')\n",
    "\n",
    "birth_year_num"
   ]
  },
  {
   "cell_type": "code",
   "execution_count": 235,
   "metadata": {
    "scrolled": true
   },
   "outputs": [
    {
     "data": {
      "text/html": [
       "<div>\n",
       "<style scoped>\n",
       "    .dataframe tbody tr th:only-of-type {\n",
       "        vertical-align: middle;\n",
       "    }\n",
       "\n",
       "    .dataframe tbody tr th {\n",
       "        vertical-align: top;\n",
       "    }\n",
       "\n",
       "    .dataframe thead th {\n",
       "        text-align: right;\n",
       "    }\n",
       "</style>\n",
       "<table border=\"1\" class=\"dataframe\">\n",
       "  <thead>\n",
       "    <tr style=\"text-align: right;\">\n",
       "      <th></th>\n",
       "      <th>name</th>\n",
       "      <th>height</th>\n",
       "      <th>mass</th>\n",
       "      <th>hair_color</th>\n",
       "      <th>skin_color</th>\n",
       "      <th>eye_color</th>\n",
       "      <th>birth_year</th>\n",
       "      <th>gender</th>\n",
       "      <th>homeworld</th>\n",
       "      <th>species</th>\n",
       "      <th>mass_cat</th>\n",
       "    </tr>\n",
       "  </thead>\n",
       "  <tbody>\n",
       "    <tr>\n",
       "      <th>0</th>\n",
       "      <td>Luke Skywalker</td>\n",
       "      <td>172.0</td>\n",
       "      <td>77.0</td>\n",
       "      <td>blond</td>\n",
       "      <td>fair</td>\n",
       "      <td>blue</td>\n",
       "      <td>19BBY</td>\n",
       "      <td>male</td>\n",
       "      <td>Tatooine</td>\n",
       "      <td>Human</td>\n",
       "      <td>Normal Mass</td>\n",
       "    </tr>\n",
       "    <tr>\n",
       "      <th>1</th>\n",
       "      <td>C-3PO</td>\n",
       "      <td>167.0</td>\n",
       "      <td>75.0</td>\n",
       "      <td>no hair</td>\n",
       "      <td>gold</td>\n",
       "      <td>yellow</td>\n",
       "      <td>112BBY</td>\n",
       "      <td>no gender</td>\n",
       "      <td>Tatooine</td>\n",
       "      <td>Droid</td>\n",
       "      <td>Normal Mass</td>\n",
       "    </tr>\n",
       "    <tr>\n",
       "      <th>2</th>\n",
       "      <td>R2-D2</td>\n",
       "      <td>96.0</td>\n",
       "      <td>32.0</td>\n",
       "      <td>no hair</td>\n",
       "      <td>white, blue</td>\n",
       "      <td>red</td>\n",
       "      <td>33BBY</td>\n",
       "      <td>no gender</td>\n",
       "      <td>Naboo</td>\n",
       "      <td>Droid</td>\n",
       "      <td>Low Mass</td>\n",
       "    </tr>\n",
       "    <tr>\n",
       "      <th>3</th>\n",
       "      <td>Darth Vader</td>\n",
       "      <td>202.0</td>\n",
       "      <td>136.0</td>\n",
       "      <td>none</td>\n",
       "      <td>white</td>\n",
       "      <td>yellow</td>\n",
       "      <td>41.9BBY</td>\n",
       "      <td>male</td>\n",
       "      <td>Tatooine</td>\n",
       "      <td>Human</td>\n",
       "      <td>High Mass</td>\n",
       "    </tr>\n",
       "    <tr>\n",
       "      <th>4</th>\n",
       "      <td>Leia Organa</td>\n",
       "      <td>150.0</td>\n",
       "      <td>49.0</td>\n",
       "      <td>brown</td>\n",
       "      <td>light</td>\n",
       "      <td>brown</td>\n",
       "      <td>19BBY</td>\n",
       "      <td>female</td>\n",
       "      <td>Alderaan</td>\n",
       "      <td>Human</td>\n",
       "      <td>Low Mass</td>\n",
       "    </tr>\n",
       "    <tr>\n",
       "      <th>...</th>\n",
       "      <td>...</td>\n",
       "      <td>...</td>\n",
       "      <td>...</td>\n",
       "      <td>...</td>\n",
       "      <td>...</td>\n",
       "      <td>...</td>\n",
       "      <td>...</td>\n",
       "      <td>...</td>\n",
       "      <td>...</td>\n",
       "      <td>...</td>\n",
       "      <td>...</td>\n",
       "    </tr>\n",
       "    <tr>\n",
       "      <th>82</th>\n",
       "      <td>Rey</td>\n",
       "      <td>NaN</td>\n",
       "      <td>NaN</td>\n",
       "      <td>brown</td>\n",
       "      <td>light</td>\n",
       "      <td>hazel</td>\n",
       "      <td>NaN</td>\n",
       "      <td>female</td>\n",
       "      <td>NaN</td>\n",
       "      <td>Human</td>\n",
       "      <td>NaN</td>\n",
       "    </tr>\n",
       "    <tr>\n",
       "      <th>83</th>\n",
       "      <td>Poe Dameron</td>\n",
       "      <td>NaN</td>\n",
       "      <td>NaN</td>\n",
       "      <td>brown</td>\n",
       "      <td>light</td>\n",
       "      <td>brown</td>\n",
       "      <td>NaN</td>\n",
       "      <td>male</td>\n",
       "      <td>NaN</td>\n",
       "      <td>Human</td>\n",
       "      <td>NaN</td>\n",
       "    </tr>\n",
       "    <tr>\n",
       "      <th>84</th>\n",
       "      <td>BB8</td>\n",
       "      <td>NaN</td>\n",
       "      <td>NaN</td>\n",
       "      <td>no hair</td>\n",
       "      <td>none</td>\n",
       "      <td>black</td>\n",
       "      <td>NaN</td>\n",
       "      <td>none</td>\n",
       "      <td>NaN</td>\n",
       "      <td>Droid</td>\n",
       "      <td>NaN</td>\n",
       "    </tr>\n",
       "    <tr>\n",
       "      <th>85</th>\n",
       "      <td>Captain Phasma</td>\n",
       "      <td>NaN</td>\n",
       "      <td>NaN</td>\n",
       "      <td>none</td>\n",
       "      <td>NaN</td>\n",
       "      <td>NaN</td>\n",
       "      <td>NaN</td>\n",
       "      <td>female</td>\n",
       "      <td>NaN</td>\n",
       "      <td>NaN</td>\n",
       "      <td>NaN</td>\n",
       "    </tr>\n",
       "    <tr>\n",
       "      <th>86</th>\n",
       "      <td>PadmÃ© Amidala</td>\n",
       "      <td>165.0</td>\n",
       "      <td>45.0</td>\n",
       "      <td>brown</td>\n",
       "      <td>light</td>\n",
       "      <td>brown</td>\n",
       "      <td>46BBY</td>\n",
       "      <td>female</td>\n",
       "      <td>Naboo</td>\n",
       "      <td>Human</td>\n",
       "      <td>Low Mass</td>\n",
       "    </tr>\n",
       "  </tbody>\n",
       "</table>\n",
       "<p>87 rows × 11 columns</p>\n",
       "</div>"
      ],
      "text/plain": [
       "              name  height   mass hair_color   skin_color eye_color  \\\n",
       "0   Luke Skywalker   172.0   77.0      blond         fair      blue   \n",
       "1            C-3PO   167.0   75.0    no hair         gold    yellow   \n",
       "2            R2-D2    96.0   32.0    no hair  white, blue       red   \n",
       "3      Darth Vader   202.0  136.0       none        white    yellow   \n",
       "4      Leia Organa   150.0   49.0      brown        light     brown   \n",
       "..             ...     ...    ...        ...          ...       ...   \n",
       "82             Rey     NaN    NaN      brown        light     hazel   \n",
       "83     Poe Dameron     NaN    NaN      brown        light     brown   \n",
       "84             BB8     NaN    NaN    no hair         none     black   \n",
       "85  Captain Phasma     NaN    NaN       none          NaN       NaN   \n",
       "86  PadmÃ© Amidala   165.0   45.0      brown        light     brown   \n",
       "\n",
       "   birth_year     gender homeworld species     mass_cat  \n",
       "0       19BBY       male  Tatooine   Human  Normal Mass  \n",
       "1      112BBY  no gender  Tatooine   Droid  Normal Mass  \n",
       "2       33BBY  no gender     Naboo   Droid     Low Mass  \n",
       "3     41.9BBY       male  Tatooine   Human    High Mass  \n",
       "4       19BBY     female  Alderaan   Human     Low Mass  \n",
       "..        ...        ...       ...     ...          ...  \n",
       "82        NaN     female       NaN   Human          NaN  \n",
       "83        NaN       male       NaN   Human          NaN  \n",
       "84        NaN       none       NaN   Droid          NaN  \n",
       "85        NaN     female       NaN     NaN          NaN  \n",
       "86      46BBY     female     Naboo   Human     Low Mass  \n",
       "\n",
       "[87 rows x 11 columns]"
      ]
     },
     "execution_count": 235,
     "metadata": {},
     "output_type": "execute_result"
    }
   ],
   "source": [
    "# birth_year_num.loc[birth_year_num > 100]\n",
    "df"
   ]
  },
  {
   "cell_type": "code",
   "execution_count": 131,
   "metadata": {},
   "outputs": [],
   "source": [
    "# with pandas\n"
   ]
  },
  {
   "cell_type": "code",
   "execution_count": null,
   "metadata": {
    "scrolled": true
   },
   "outputs": [],
   "source": []
  },
  {
   "cell_type": "code",
   "execution_count": 132,
   "metadata": {},
   "outputs": [],
   "source": [
    "# with matplotlib\n"
   ]
  },
  {
   "cell_type": "code",
   "execution_count": null,
   "metadata": {
    "scrolled": false
   },
   "outputs": [],
   "source": []
  },
  {
   "cell_type": "markdown",
   "metadata": {
    "id": "o7z6kXmQ-EPT"
   },
   "source": [
    "## <p style=\"background-color:#9d4f8c; font-family:newtimeroman; color:#FFF9ED; font-size:150%; text-align:center; border-radius:10px 10px;\">TASK 6 - Task 6. Plotting the Characters by hair_color (PIE CHART)</p>\n",
    "\n",
    "<a id=\"7\"></a>\n",
    "<a href=\"#toc\" class=\"btn btn-primary btn-sm\" role=\"button\" aria-pressed=\"true\" \n",
    "style=\"color:blue; background-color:#dfa8e4\" data-toggle=\"popover\">Content</a>"
   ]
  },
  {
   "cell_type": "code",
   "execution_count": null,
   "metadata": {},
   "outputs": [
    {
     "data": {
      "image/png": "[encoded data removed]",
      "text/plain": [
       "<Figure size 1000x1000 with 1 Axes>"
      ]
     },
     "metadata": {},
     "output_type": "display_data"
    }
   ],
   "source": [
    "# PIE CHART\n",
    "hair_color = df.hair_color\n",
    "# df.hair_color.value_counts()\n",
    "\n",
    "# Panda PieChart\n",
    "# hair_color.plot.pie()\n",
    "\n",
    "\n",
    "#matplotlib PieChart\n",
    "plt.figure(figsize=(10,10))\n",
    "plt.title('Characters by Hair Colour')\n",
    "\n",
    "chart_labels = hair_color.unique()\n",
    "chart_data_values = hair_color.value_counts().values\n",
    "\n",
    "\n",
    "plt.pie(\n",
    "    chart_data_values,\n",
    "    labels=chart_labels,\n",
    "    autopct=lambda x:  f'{round(x,2)}%'\n",
    ")\n",
    "\n",
    "\n",
    "plt.legend();"
   ]
  },
  {
   "cell_type": "code",
   "execution_count": null,
   "metadata": {
    "colab": {
     "base_uri": "https://localhost:8080/"
    },
    "id": "F1CSkbxa-l5H",
    "outputId": "fc97ecc9-64ae-412a-9bef-b33280fda62f",
    "scrolled": false
   },
   "outputs": [],
   "source": []
  },
  {
   "cell_type": "markdown",
   "metadata": {},
   "source": [
    "## <p style=\"background-color:#9d4f8c; font-family:newtimeroman; color:#FFF9ED; font-size:150%; text-align:center; border-radius:10px 10px;\">THE END OF THE ASSIGNMENT 01</p>\n",
    "\n",
    "# Now. it's time to relax!\n",
    "\n",
    "![Image_Assignment](https://i.ibb.co/jZD3Mqb/relaxing.jpg)\n",
    "\n",
    "<a id=\"10\"></a>\n",
    "<a href=\"#toc\" class=\"btn btn-primary btn-sm\" role=\"button\" aria-pressed=\"true\" \n",
    "style=\"color:blue; background-color:#dfa8e4\" data-toggle=\"popover\">Content</a>\n",
    "\n",
    "\n",
    "<p style=\"text-align: center;\"><img src=\"https://i.ibb.co/99DQ3TY/DS-Courses.png\" class=\"img-fluid\" \n",
    "alt=\"CLRSWY\"></p>\n",
    "\n",
    "\n",
    "<br><br><br>\n",
    "\n",
    "<p style=\"text-align: center;\"><img src=\"https://i.ibb.co/Rpz9L36/clarusway-logo-black.png\" width=\"450\" height=\"200\" class=\"img-fluid\" alt=\"CLRSWY_LOGO\"></p>\n",
    "\n",
    "<p style=\"background-color:#E51A59; font-family:newtimeroman; color:#FDFEFE; font-size:130%; text-align:center; border-radius:10px 10px;\">WAY TO REINVENT YOURSELF</p>"
   ]
  },
  {
   "cell_type": "markdown",
   "metadata": {},
   "source": [
    "<a href=\"https://clarusway.com/contact-us/\"><img align=\"center\" src=\"https://i.ibb.co/B43qn24/officially-licensed-logo.png\" alt=\"Open in Clarusway LMS\" width=\"110\" height=\"200\" title=\"This notebook is licensed by Clarusway IT training school. Please contact the authorized persons about the conditions under which you can use or share.\"></a>"
   ]
  }
 ],
 "metadata": {
  "colab": {
   "collapsed_sections": [],
   "name": "DV_capstone_solution.ipynb",
   "provenance": [],
   "toc_visible": true
  },
  "kernelspec": {
   "display_name": "base",
   "language": "python",
   "name": "python3"
  },
  "language_info": {
   "codemirror_mode": {
    "name": "ipython",
    "version": 3
   },
   "file_extension": ".py",
   "mimetype": "text/x-python",
   "name": "python",
   "nbconvert_exporter": "python",
   "pygments_lexer": "ipython3",
   "version": "3.12.4"
  },
  "toc": {
   "base_numbering": 1,
   "nav_menu": {},
   "number_sections": false,
   "sideBar": true,
   "skip_h1_title": false,
   "title_cell": "Table of Contents",
   "title_sidebar": "Contents",
   "toc_cell": false,
   "toc_position": {},
   "toc_section_display": true,
   "toc_window_display": true
  }
 },
 "nbformat": 4,
 "nbformat_minor": 1
}
